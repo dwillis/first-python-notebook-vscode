{
 "cells": [
  {
   "cell_type": "markdown",
   "id": "b787e8d4",
   "metadata": {},
   "source": [
    "# Pandas\n",
    "\n",
    "Python is filled with functions to do pretty much anything you'd ever want to do with a programming language: [navigate the web](http://docs.python-requests.org/), [parse data](https://docs.python.org/2/library/csv.html), [interact with a database](http://www.sqlalchemy.org/), [run fancy statistics](https://www.scipy.org/), [build a pretty website](https://www.djangoproject.com/) and [so](https://www.crummy.com/software/BeautifulSoup/) [much](http://www.nltk.org/) [more](https://pillow.readthedocs.io/en/stable/).\n",
    "\n",
    "Creative people have put these tools to work to get [a wide range of things done](https://www.python.org/about/success/) in the academy, the laboratory and even in outer space. Some are included in a toolbox that comes with the language, known as the standard library. Others have been built by members of Python's developer community and need to be downloaded and installed from the web.\n",
    "\n",
    "One third-party tool that's important for this class is called [pandas](http://pandas.pydata.org/). It was invented for use at a [financial investment firm](https://www.aqr.com/) and has become the leading open-source library for accessing and analyzing data in many different fields."
   ]
  },
  {
   "cell_type": "markdown",
   "id": "bf45664b",
   "metadata": {},
   "source": [
    "## Import pandas\n",
    "\n",
    "Add the following to your notebook. Type in the following and run it:"
   ]
  },
  {
   "cell_type": "code",
   "execution_count": null,
   "id": "479e2c63",
   "metadata": {},
   "outputs": [],
   "source": [
    "import pandas"
   ]
  },
  {
   "cell_type": "markdown",
   "id": "74249ec6",
   "metadata": {},
   "source": [
    "If nothing happens, that's good. It means you have pandas installed and ready to use.\n",
    "\n",
    "```{note}\n",
    "Since pandas is created by a third party independent from the core Python developers, it wouldn't be installed by default in a basic Python installation.\n",
    "\n",
    "If you followed the VS Code setup chapter and used uv to set up your project, pandas should already be installed. If your Python environment doesn't have pandas, you can install it by opening the VS Code terminal (`View > Terminal`) and running `uv add pandas` (if using uv) or `pip install pandas` (if using pip).\n",
    "```\n",
    "\n",
    "Return to your import section and rewrite it like this:"
   ]
  },
  {
   "cell_type": "code",
   "execution_count": null,
   "id": "8fa1655e",
   "metadata": {},
   "outputs": [],
   "source": [
    "import pandas as pd"
   ]
  },
  {
   "cell_type": "markdown",
   "id": "37b78357",
   "metadata": {},
   "source": [
    "This renames the `pandas` library to `pd`, which is a common shortcut you'll frequently see in the wild. Think of it as a nickname.\n",
    "\n",
    "## Create a Series\n",
    "\n",
    "Now let's start to get a look at pandas' powers. Let's begin by making a simple list of numbers:"
   ]
  },
  {
   "cell_type": "code",
   "execution_count": null,
   "id": "c0c2661e",
   "metadata": {},
   "outputs": [],
   "source": [
    "my_list = [1, 2, 3, 4, 5]\n",
    "print(my_list)"
   ]
  },
  {
   "cell_type": "markdown",
   "id": "4d579b26",
   "metadata": {},
   "source": [
    "We can start to get a look at its powers by converting that plain Python list into what pandas calls a [Series](http://pandas.pydata.org/pandas-docs/stable/generated/pandas.Series.html). Here's how to make it happen. Let's stick with simple variables and name it `my_series`."
   ]
  },
  {
   "cell_type": "code",
   "execution_count": null,
   "id": "312637dc",
   "metadata": {},
   "outputs": [],
   "source": [
    "my_series = pd.Series(my_list)\n",
    "print(my_series)"
   ]
  },
  {
   "cell_type": "markdown",
   "id": "2cc5c248",
   "metadata": {},
   "source": [
    "Voila! Your first pandas object. A Series is a data type provided by pandas. For our purposes you can consider it an enhanced version of a Python list.\n",
    "\n",
    "Compare the output above to what we saw when we printed a list. Here, we can see that each item in the list now has an `index` number (0, 1, 2, 3, 4) and a `dtype`, which stands for data type.\n",
    "\n",
    "Like many things you'll encounter in Python, a pandas Series contains numerous functions and methods that are packaged together with the data. Let's try a few.\n",
    "\n",
    "How about sorting the series from highest to lowest with the [`sort_values`](http://pandas.pydata.org/pandas-docs/stable/generated/pandas.Series.sort_values.html) method?"
   ]
  },
  {
   "cell_type": "code",
   "execution_count": null,
   "id": "bdc80805",
   "metadata": {},
   "outputs": [],
   "source": [
    "my_series.sort_values(ascending=False)"
   ]
  },
  {
   "cell_type": "markdown",
   "id": "5a8b5926",
   "metadata": {},
   "source": [
    "Or how about a statistical summary of the data with [`describe`](http://pandas.pydata.org/pandas-docs/stable/generated/pandas.Series.describe.html)?"
   ]
  },
  {
   "cell_type": "code",
   "execution_count": null,
   "id": "5b1d9c62",
   "metadata": {},
   "outputs": [],
   "source": [
    "my_series.describe()"
   ]
  },
  {
   "cell_type": "markdown",
   "id": "3ac59963",
   "metadata": {},
   "source": [
    "In just a few lines of code, pandas was able to calculate the count, mean, standard deviation, minimum, maximum and quartiles of our data, which is something that would take quite a bit more work if we had to calculate it all by hand.\n",
    "\n",
    "But this is just the beginning.\n",
    "\n",
    "Next you'll learn how to import larger, more realistic datasets for analysis."
   ]
  }
 ],
 "metadata": {
  "language_info": {
   "name": "python"
  }
 },
 "nbformat": 4,
 "nbformat_minor": 5
}

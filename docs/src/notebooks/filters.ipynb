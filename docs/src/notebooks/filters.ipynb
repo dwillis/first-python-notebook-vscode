{
 "cells": [
  {
   "cell_type": "markdown",
   "id": "d7f79a40",
   "metadata": {},
   "source": [
    "# Filter\n",
    "\n",
    "The most common way to filter a DataFrame is to pass an expression as an \"index\" that can be used to decide which records to keep and which to discard. You write the expression by combining a column of your DataFrame with an \"operator\" like `==` or `>` or `<` and a value to compare each row against.\n",
    "\n",
    "```{note}\n",
    "If you are familiar with writing [SQL](https://en.wikipedia.org/wiki/SQL) to manipulate databases, pandas' filtering system is somewhat similar to a WHERE query. The [official pandas documentation](https://pandas.pydata.org/pandas-docs/stable/getting_started/comparison/comparison_with_sql.html#where) offers direct translations between the two.\n",
    "```"
   ]
  },
  {
   "cell_type": "markdown",
   "id": "a2ddb8c7",
   "metadata": {},
   "source": [
    "## Setup data\n",
    "\n",
    "Let's start by loading our accident data:"
   ]
  },
  {
   "cell_type": "code",
   "execution_count": null,
   "id": "085e57fc",
   "metadata": {},
   "outputs": [],
   "source": [
    "import pandas as pd\n",
    "accident_list = pd.read_csv(\"https://raw.githubusercontent.com/palewire/first-python-notebook/main/docs/src/_static/ntsb-accidents.csv\")\n",
    "accident_list[\"latimes_make_and_model\"] = accident_list[\"latimes_make_and_model\"].str.upper()\n",
    "\n",
    "print(f\"Loaded {len(accident_list)} total accidents\")\n",
    "accident_list.head()"
   ]
  },
  {
   "cell_type": "markdown",
   "id": "721bdcc9",
   "metadata": {},
   "source": [
    "## Basic filtering\n",
    "\n",
    "Let's try filtering against the `state` field. Save a state's postal code into a variable. This will allow us to reuse it later:"
   ]
  },
  {
   "cell_type": "code",
   "execution_count": null,
   "id": "66a90298",
   "metadata": {},
   "outputs": [],
   "source": [
    "# Set a state to filter by\n",
    "my_state = \"IA\"\n",
    "print(f\"Filtering data for state: {my_state}\")"
   ]
  },
  {
   "cell_type": "markdown",
   "id": "d2f9e447",
   "metadata": {},
   "source": [
    "Now we will ask pandas to narrow down our list of accidents to just those in our state of interest. We will create a filter expression and place it between two square brackets following the DataFrame we wish to filter:"
   ]
  },
  {
   "cell_type": "code",
   "execution_count": null,
   "id": "16332247",
   "metadata": {},
   "outputs": [],
   "source": [
    "filtered_accidents = accident_list[accident_list[\"state\"] == my_state]\n",
    "filtered_accidents.head()"
   ]
  },
  {
   "cell_type": "markdown",
   "id": "dea2e9ee",
   "metadata": {},
   "source": [
    "Now let's save the results of that filter into a new variable separate from the full list we imported from the CSV file. Since it includes only accidents in our chosen state, let's call it `my_accidents`:"
   ]
  },
  {
   "cell_type": "code",
   "execution_count": null,
   "id": "b0aec4e5",
   "metadata": {},
   "outputs": [],
   "source": [
    "my_accidents = accident_list[accident_list[\"state\"] == my_state]\n",
    "print(f\"Found {len(my_accidents)} accidents in {my_state}\")"
   ]
  },
  {
   "cell_type": "markdown",
   "id": "d8154d9e",
   "metadata": {},
   "source": [
    "To check our work and find out how many records are left after the filter, let's run the DataFrame inspection commands we learned earlier:"
   ]
  },
  {
   "cell_type": "code",
   "execution_count": null,
   "id": "3096b6b8",
   "metadata": {},
   "outputs": [],
   "source": [
    "print(\"First few accidents in the filtered data:\")\n",
    "my_accidents.head()"
   ]
  },
  {
   "cell_type": "code",
   "execution_count": null,
   "id": "734212fb",
   "metadata": {},
   "outputs": [],
   "source": [
    "print(\"Shape of filtered data:\")\n",
    "my_accidents.shape"
   ]
  },
  {
   "cell_type": "markdown",
   "id": "311354d5",
   "metadata": {},
   "source": [
    "## Different types of filters\n",
    "\n",
    "You can filter using different operators. Here are some common ones:"
   ]
  },
  {
   "cell_type": "code",
   "execution_count": null,
   "id": "4cb98980",
   "metadata": {},
   "outputs": [],
   "source": [
    "# Filter for accidents with more than 2 fatalities\n",
    "fatal_accidents = accident_list[accident_list[\"total_fatalities\"] > 2]\n",
    "print(f\"Accidents with more than 2 fatalities: {len(fatal_accidents)}\")"
   ]
  },
  {
   "cell_type": "code",
   "execution_count": null,
   "id": "13beca4f",
   "metadata": {},
   "outputs": [],
   "source": [
    "# Filter for accidents with exactly 0 fatalities\n",
    "non_fatal = accident_list[accident_list[\"total_fatalities\"] == 0]\n",
    "print(f\"Non-fatal accidents: {len(non_fatal)}\")"
   ]
  },
  {
   "cell_type": "code",
   "execution_count": null,
   "id": "27cded79",
   "metadata": {},
   "outputs": [],
   "source": [
    "# Filter for Robinson helicopters\n",
    "robinson = accident_list[accident_list[\"latimes_make\"] == \"ROBINSON\"]\n",
    "print(f\"Robinson helicopter accidents: {len(robinson)}\")\n",
    "robinson.head()"
   ]
  },
  {
   "cell_type": "markdown",
   "id": "81cebdbf",
   "metadata": {},
   "source": [
    "## Combining filters\n",
    "\n",
    "You can combine multiple filter conditions using `&` (and) and `|` (or) operators. Note that each condition must be wrapped in parentheses:"
   ]
  },
  {
   "cell_type": "code",
   "execution_count": null,
   "id": "4a810d61",
   "metadata": {},
   "outputs": [],
   "source": [
    "# Robinson accidents with fatalities\n",
    "robinson_fatal = accident_list[\n",
    "    (accident_list[\"latimes_make\"] == \"ROBINSON\") & \n",
    "    (accident_list[\"total_fatalities\"] > 0)\n",
    "]\n",
    "print(f\"Fatal Robinson accidents: {len(robinson_fatal)}\")"
   ]
  },
  {
   "cell_type": "code",
   "execution_count": null,
   "id": "a3427c0f",
   "metadata": {},
   "outputs": [],
   "source": [
    "# Accidents in California or Texas\n",
    "ca_or_tx = accident_list[\n",
    "    (accident_list[\"state\"] == \"CA\") | \n",
    "    (accident_list[\"state\"] == \"TX\")\n",
    "]\n",
    "print(f\"Accidents in CA or TX: {len(ca_or_tx)}\")"
   ]
  },
  {
   "cell_type": "markdown",
   "id": "960c169f",
   "metadata": {},
   "source": [
    "## Filtering with string methods\n",
    "\n",
    "You can also filter using string methods for more complex text matching:"
   ]
  },
  {
   "cell_type": "code",
   "execution_count": null,
   "id": "b4a1c77c",
   "metadata": {},
   "outputs": [],
   "source": [
    "# Find accidents where location contains \"Airport\"\n",
    "airport_accidents = accident_list[accident_list[\"location\"].str.contains(\"Airport\", na=False)]\n",
    "print(f\"Accidents at airports: {len(airport_accidents)}\")"
   ]
  },
  {
   "cell_type": "markdown",
   "id": "c4b569ed",
   "metadata": {},
   "source": [
    "Filtering is one of the most powerful tools in pandas for data analysis. You can use these techniques to focus your analysis on specific subsets of your data that are most relevant to your research questions."
   ]
  }
 ],
 "metadata": {
  "language_info": {
   "name": "python"
  }
 },
 "nbformat": 4,
 "nbformat_minor": 5
}

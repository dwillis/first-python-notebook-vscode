{
 "cells": [
  {
   "cell_type": "markdown",
   "id": "36e5afff",
   "metadata": {},
   "source": [
    "# Chapter 2: Hello notebook\n",
    "\n",
    "Now you are all setup and ready to start writing Python code.\n",
    "\n",
    "Do not stress. There is nothing too fancy about it. You can start by just doing a little simple math.\n",
    "\n",
    "Type the following into the first box, then hit the play button in the toolbar above the notebook (or hit `SHIFT+ENTER` on your keyboard)."
   ]
  },
  {
   "cell_type": "code",
   "execution_count": 1,
   "id": "d41ada8d",
   "metadata": {},
   "outputs": [
    {
     "data": {
      "text/plain": [
       "4"
      ]
     },
     "execution_count": 1,
     "metadata": {},
     "output_type": "execute_result"
    }
   ],
   "source": [
    "    2+2"
   ]
  },
  {
   "cell_type": "markdown",
   "id": "ee159d42",
   "metadata": {},
   "source": [
    "There. You have just written your first Python code. You have entered two integers and added them together using the plus sign operator.\n",
    "\n",
    "Not so bad, right?\n",
    "\n",
    "```{note}\n",
    "If you get an error after you run a cell, look carefully at your code and see that it exactly matches what's been written in the example. Don't worry.\n",
    "\n",
    "Code crashes are a normal part of life for computer programmers. They're usually caused by small typos that can be quickly corrected.\n",
    "```\n",
    "\n",
    "This to-and-fro of writing Python code in a notebook cell and then running it with the play button is the rhythm of working in a notebook. Over time you will gradually stack cells to organize an analysis that runs from top to bottom.\n",
    "\n",
    "The cells can contain variables, functions and other Python tools.\n",
    "\n",
    "A simple example would be storing your number in a variable in one cell ..."
   ]
  },
  {
   "cell_type": "code",
   "execution_count": 2,
   "id": "f8fab45f",
   "metadata": {},
   "outputs": [],
   "source": [
    "number = 2"
   ]
  },
  {
   "cell_type": "markdown",
   "id": "5c120ab5",
   "metadata": {},
   "source": [
    "... then adding it to another number in the next."
   ]
  },
  {
   "cell_type": "code",
   "execution_count": 3,
   "id": "ca013113",
   "metadata": {},
   "outputs": [
    {
     "data": {
      "text/plain": [
       "5"
      ]
     },
     "execution_count": 3,
     "metadata": {},
     "output_type": "execute_result"
    }
   ],
   "source": [
    "number + 3"
   ]
  },
  {
   "cell_type": "markdown",
   "id": "680f036c",
   "metadata": {},
   "source": [
    "Run those two cells in succession and the notebook should output the number five. Change the number value to 3 and run both cells again and it should output six.\n",
    "\n",
    "```{note}\n",
    "If you've never written Python before, we recommend [An Informal Introduction to Python](https://docs.python.org/3/tutorial/introduction.html) and subsequent sections of python.org's tutorial.\n",
    "```\n",
    "\n",
    "Once you've got the hang of making the notebook run, you're ready to introduce pandas, the powerful Python analysis library that can do a whole lot more than add a few numbers together."
   ]
  }
 ],
 "metadata": {
  "jupytext": {
   "text_representation": {
    "extension": ".md",
    "format_name": "myst",
    "format_version": "0.8",
    "jupytext_version": "1.4.1"
   }
  },
  "kernelspec": {
   "display_name": "Python 3",
   "language": "python",
   "name": "python3"
  },
  "language_info": {
   "codemirror_mode": {
    "name": "ipython",
    "version": 3
   },
   "file_extension": ".py",
   "mimetype": "text/x-python",
   "name": "python",
   "nbconvert_exporter": "python",
   "pygments_lexer": "ipython3",
   "version": "3.9.7"
  },
  "source_map": [
   12,
   21,
   23,
   41,
   43,
   47,
   49
  ]
 },
 "nbformat": 4,
 "nbformat_minor": 5
}
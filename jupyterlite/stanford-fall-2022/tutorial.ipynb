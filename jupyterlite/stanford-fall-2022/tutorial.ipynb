{
 "cells": [
  {
   "cell_type": "markdown",
   "id": "37529264-50ff-4bf6-ba7f-0b67d1cafbf5",
   "metadata": {},
   "source": [
    "# First Python Notebook: Stanford Fall 2022 edition\n",
    "\n",
    "An guide to analyzing money in politics with the [Python](https://www.python.org/) programming language and a [Jupyter](https://jupyter.org/) notebook\n",
    "   \n",
    "By [Ben Welsh](https://palewi.re/who-is-ben-welsh/)"
   ]
  },
  {
   "cell_type": "markdown",
   "id": "2b3934dd-a0b6-4d99-9ad4-4370318e8f69",
   "metadata": {},
   "source": [
    "First developed in 2016, [\"First Python Notebook\"](https://palewi.re/docs/first-python-notebook/) is a tutorial that guides students through a data-driven investigation of money in California politics. It is most commonly taught as a six-hour, in-person class. This document is an updated, and abbreviated, spin-off for Stanford students in the fall 2022 semester\n",
    "\n",
    "You will learn just enough of the Python computer programming language to work with the [pandas](https://pandas.pydata.org/) library, a popular open-source tool for analyzing data. The course will teach you how to read, filter, join, group, aggregate and rank structured data by developing an investigation of the money raised to campaign for ballot measures in the upcoming November election.\n",
    "\n",
    "The class, which we will code together live below, walks through [the standard \"First Python Notebook\" tutorial](https://palewi.re/docs/first-python-notebook/index.htmlhttps://palewi.re/docs/first-python-notebook/index.html), substituting in data files from the current campaign."
   ]
  }
 ],
 "metadata": {
  "kernelspec": {
   "display_name": "Python 3 (ipykernel)",
   "language": "python",
   "name": "python3"
  },
  "language_info": {
   "codemirror_mode": {
    "name": "ipython",
    "version": 3
   },
   "file_extension": ".py",
   "mimetype": "text/x-python",
   "name": "python",
   "nbconvert_exporter": "python",
   "pygments_lexer": "ipython3",
   "version": "3.9.2"
  }
 },
 "nbformat": 4,
 "nbformat_minor": 5
}

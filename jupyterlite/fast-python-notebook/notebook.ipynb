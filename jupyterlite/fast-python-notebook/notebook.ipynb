{
 "cells": [
  {
   "cell_type": "markdown",
   "id": "45f6ab66-37c2-454a-925e-346931e1c3a7",
   "metadata": {
    "tags": []
   },
   "source": [
    "# ~~First~~ Fast Python Notebook\n",
    "\n",
    "<div style=\"max-width: 640px\">\n",
    "\n",
    "An accelerated guide to analyzing data with the <a href=\"https://www.python.org/\">Python</a> programming language and a <a href=\"https://jupyter.org/\">Jupyter</a> notebook\n",
    "\n",
    "</div>\n",
    "    \n",
    "By [Ben Welsh](https://palewi.re/who-is-ben-welsh/)"
   ]
  },
  {
   "cell_type": "markdown",
   "id": "78f5946d-3e22-4eff-85a8-f066109c41b0",
   "metadata": {},
   "source": [
    "<div style=\"max-width: 640px\">\n",
    "\n",
    "First developed in 2016, <a href=\"https://palewi.re/docs/first-python-notebook/\">\"First Python Notebook\"</a> is a tutorial that guides students through a data-driven investigation of money in California politics. It is most commonly taught as a six-hour, in-person class. This document is an abbreviated spinoff intended to be taught online in two to three hours.\n",
    "\n",
    "You will learn just enough of the Python computer programming language to work with the <a href=\"https://pandas.pydata.org/\">pandas</a> library, a popular open-source tool for analyzing data. The course will teach you how to read, filter, join, group, aggregate and rank structured data by recreating a helicopter accident analysis <a href=\"https://github.com/datadesk/helicopter-accident-analysis\">published by the Los Angeles Times</a>.\n",
    "    \n",
    "</div>"
   ]
  },
  {
   "cell_type": "markdown",
   "id": "db188ce8-2e8b-4c48-a7b3-d9d98788e345",
   "metadata": {
    "tags": []
   },
   "source": [
    "## What is a Jupyter notebook?"
   ]
  },
  {
   "cell_type": "markdown",
   "id": "d6129fc8-71b6-40ed-a8c5-e18f50a5d981",
   "metadata": {},
   "source": [
    "<div style=\"max-width: 640px\">\n",
    "\n",
    "<p><img src=\"https://palewi.re/docs/first-python-notebook/_static/img/labpreview.webp\" alt=\"jupyter\"></p>\n",
    "<p>A <a href=\"https://jupyter.org/\">Jupyter</a> notebook is a browser-based interface where you can write, run, remix and republish code. It is free software that anyone can install and run.</p>\n",
    "<p><a href=\"https://nbviewer.jupyter.org/github/robertodealmeida/notebooks/blob/master/earth_day_data_challenge/Analyzing%20whale%20tracks.ipynb\">Scientists</a>, <a href=\"https://nbviewer.jupyter.org/github/nealcaren/workshop_2014/blob/master/notebooks/5_Times_API.ipynb\">scholars</a>, <a href=\"https://github.com/rsvp/fecon235/blob/master/nb/fred-debt-pop.ipynb\">investors</a> and <a href=\"https://netflixtechblog.com/notebook-innovation-591ee3221233\">corporations</a> use Jupyter to create and share their research. It is also used by journalists to develop stories and show their work. Examples include:</p>\n",
    "<ul>\n",
    "<li><a href=\"https://github.com/BuzzFeedNews/2016-01-tennis-betting-analysis/blob/master/notebooks/tennis-analysis.ipynb\">“The Tennis Racket”</a> by BuzzFeed and the BBC</li>\n",
    "<li><a href=\"https://github.com/propublica/compas-analysis/blob/master/Compas%20Analysis.ipynb\">“Machine bias”</a> by ProPublica</li>\n",
    "<li><a href=\"https://github.com/asuozzo/arcos-opioid-analysis-vt\">“As Opioid Crisis Ramped Up, Pills Flowed Into Vermont by the Millions”</a> by Seven Days</li>\n",
    "<li><a href=\"https://github.com/datadesk/notebooks\">More than 35 different notebooks</a> published by the Los Angeles Times</li>\n",
    "</ul>\n",
    "<p>There are numerous ways to install and configure Jupyter notebooks. This class is taught using <a href=\"https://jupyterlite.readthedocs.io/\">JupyterLite</a> a lightweight distribution that runs entirely in your web browser. For instructions on how to install a more powerful version on your computer consult <a href=\"https://palewi.re/docs/first-python-notebook/jupyter_desktop.html\">the full edition of &quot;First Python Notebook.&#39;</a></p>\n",
    "<p>Once you have this notebook up and running, you&#39;re ready to write Python in a code cell. Do not stress. There is nothing too fancy about it. You can start by just doing a little simple math.</p>\n",
    "<p>Select the box below, then hit the play button in the toolbar above the notebook or hit <code>SHIFT+ENTER</code> on your keyboard.</p>\n",
    "    \n",
    "</div>"
   ]
  },
  {
   "cell_type": "code",
   "execution_count": 1,
   "id": "a08c8290-2248-44eb-ac49-c558e16fd473",
   "metadata": {},
   "outputs": [
    {
     "data": {
      "text/plain": [
       "4"
      ]
     },
     "execution_count": 1,
     "metadata": {},
     "output_type": "execute_result"
    }
   ],
   "source": [
    "2+2"
   ]
  },
  {
   "cell_type": "markdown",
   "id": "8d878e7a-8c26-4ea9-992b-cc306e4c8e1c",
   "metadata": {},
   "source": [
    "<div style=\"max-width:630px\">\n",
    "\n",
    "There. You have just run your first Python code. You have entered two integers and added them together using the plus sign operator.\n",
    "\n",
    "Not so bad, right? Now try writing in your own math problem in the next cell. Maybe `2+3` or `2+200`. Whatever strikes your fancy. After you've typed it in, hit the play button or `SHIFT+ENTER`.\n",
    "\n",
    "</div>"
   ]
  },
  {
   "cell_type": "code",
   "execution_count": null,
   "id": "561fbe22-81a9-49ba-8e92-d466063f9ba6",
   "metadata": {},
   "outputs": [],
   "source": []
  },
  {
   "cell_type": "markdown",
   "id": "aed7d280-9237-4c24-9f43-ed5b4464a8d8",
   "metadata": {},
   "source": [
    "<div style=\"max-width: 640px;\">\n",
    "\n",
    "This to-and-fro of writing Python code in a cell and then running it is the rhythm of working in a notebook. If you get an error after you run a cell, look carefully at your code and see that it exactly matches what’s been written in the example.\n",
    "    \n",
    "Here's an example of a error that I've added intentionally:\n",
    "    \n",
    "</div>"
   ]
  },
  {
   "cell_type": "code",
   "execution_count": 4,
   "id": "6aa5381f-2daf-40a7-bfa1-9e0c62ac3a5c",
   "metadata": {},
   "outputs": [
    {
     "ename": "SyntaxError",
     "evalue": "invalid syntax (4150814810.py, line 1)",
     "output_type": "error",
     "traceback": [
      "\u001b[0;36m  Input \u001b[0;32mIn [4]\u001b[0;36m\u001b[0m\n\u001b[0;31m    2+2+\u001b[0m\n\u001b[0m        ^\u001b[0m\n\u001b[0;31mSyntaxError\u001b[0m\u001b[0;31m:\u001b[0m invalid syntax\n"
     ]
    }
   ],
   "source": [
    "2+2+"
   ]
  },
  {
   "cell_type": "markdown",
   "id": "8d75df45-7b74-4c47-8683-0e8fb69e7898",
   "metadata": {},
   "source": [
    "<div style=\"max-width: 640px;\">\n",
    "\n",
    "Don’t worry. Code crashes are a normal part of life for computer programmers. They’re usually caused by small typos that can be quickly corrected.\n",
    "    \n",
    "</div>"
   ]
  },
  {
   "cell_type": "code",
   "execution_count": 3,
   "id": "e530e3a5-85bc-4326-a55d-54dbafc58ff6",
   "metadata": {},
   "outputs": [
    {
     "data": {
      "text/plain": [
       "6"
      ]
     },
     "execution_count": 3,
     "metadata": {},
     "output_type": "execute_result"
    }
   ],
   "source": [
    "2+2+2"
   ]
  },
  {
   "cell_type": "markdown",
   "id": "2c48af4c-0230-4624-accd-81589e0293cc",
   "metadata": {},
   "source": [
    "<div style=\"max-width: 640px;\">\n",
    "\n",
    "<p>Over time you will gradually stack cells to organize an analysis that runs from top to bottom. The cells can contain variables, functions and other Python tools.</p>\n",
    "<div class=\"alert alert-block alert-warning\">\n",
    "<p>If you’ve never written code before, we recommend <a href=\"https://docs.python.org/3/tutorial/introduction.html\">&quot;An Informal Introduction to Python&quot;</a> and subsequent sections of python.org’s tutorial.</p>\n",
    "</div>\n",
    "<p>A simple example would be storing your number in a variable in one cell:</p>\n",
    "\n",
    "    \n",
    "</div>"
   ]
  },
  {
   "cell_type": "code",
   "execution_count": 4,
   "id": "44987e01-120e-4920-9140-8ab5c5ee0acb",
   "metadata": {},
   "outputs": [],
   "source": [
    "number = 2"
   ]
  },
  {
   "cell_type": "markdown",
   "id": "ce101254-99ae-4b0a-b062-18324d70e134",
   "metadata": {},
   "source": [
    "Then adding it to another number in the next:"
   ]
  },
  {
   "cell_type": "code",
   "execution_count": 5,
   "id": "4ca3b2e7-07db-4db3-b1b9-6c09ad8ad365",
   "metadata": {},
   "outputs": [
    {
     "data": {
      "text/plain": [
       "5"
      ]
     },
     "execution_count": 5,
     "metadata": {},
     "output_type": "execute_result"
    }
   ],
   "source": [
    "number + 3"
   ]
  },
  {
   "cell_type": "markdown",
   "id": "7b403eaa-d83e-4819-871f-2e8606936f71",
   "metadata": {},
   "source": [
    "Change the `number` value to 3 and run both cells again. Instead of 5, it should now output 6."
   ]
  },
  {
   "cell_type": "code",
   "execution_count": 5,
   "id": "b33b8643-b444-4253-b38a-4be2732ddbdb",
   "metadata": {},
   "outputs": [],
   "source": [
    "number = 3"
   ]
  },
  {
   "cell_type": "code",
   "execution_count": 6,
   "id": "00f55723-8907-4797-ba39-854a77c6a28c",
   "metadata": {},
   "outputs": [
    {
     "data": {
      "text/plain": [
       "6"
      ]
     },
     "execution_count": 6,
     "metadata": {},
     "output_type": "execute_result"
    }
   ],
   "source": [
    "number + 3"
   ]
  },
  {
   "cell_type": "markdown",
   "id": "c223912c-1c04-4c3d-a2b3-4904ee39039b",
   "metadata": {},
   "source": [
    "Now try defining your own numeric variable and doing some math with it. You can name it whatever you want. Want to try some other math operations? The `-` sign does subtraction. Multipication is `*`. Division is `/`."
   ]
  },
  {
   "cell_type": "code",
   "execution_count": null,
   "id": "2c19513b-1a01-4287-8e29-4362c4fc590f",
   "metadata": {},
   "outputs": [],
   "source": []
  },
  {
   "cell_type": "markdown",
   "id": "997aa7c1-aa6c-4f5b-a8de-802990e87122",
   "metadata": {},
   "source": [
    "Once you’ve got the hang of making the notebook run, you’re ready to introduce pandas, a powerful Python analysis library that can do a whole lot more than add a few numbers together."
   ]
  },
  {
   "cell_type": "markdown",
   "id": "6a769ba4-a9a9-4c26-bbfd-a14ea202b81a",
   "metadata": {},
   "source": [
    "## What is pandas? \n",
    "\n",
    "<div style=\"max-width: 640px\">\n",
    "  \n",
    "<p><img src=\"https://palewi.re/docs/first-python-notebook/_static/img/pandas-pypi.png\" alt=\"pandas on the Python Package Index\"></p>\n",
    "<p>Lucky for us, Python is filled with functions to do almost anything you’d want to do with a programming language: <a href=\"http://docs.python-requests.org/\">navigate the web</a>, <a href=\"https://docs.python.org/2/library/csv.html\">parse data</a>, <a href=\"http://www.sqlalchemy.org/\">interact with a database</a>, <a href=\"https://www.scipy.org/\">run fancy statistics</a>, <a href=\"https://www.djangoproject.com/\">build a pretty website</a> and <a href=\"https://www.crummy.com/software/BeautifulSoup/\">so</a> <a href=\"http://www.nltk.org/\">much</a> <a href=\"https://pillow.readthedocs.io/en/stable/\">more</a>.</p>\n",
    "<p>Creative people have put these tools to work to get a <a href=\"https://www.python.org/about/success/\">wide range of things</a> done in the academy, the laboratory and even in outer space.</p>\n",
    "<p>Some of those tools are included in a toolbox that comes with the language, known as the standard library. Others have been built by members of Python’s developer community and need to be separately downloaded and installed. One third-party tool that’s important for this class is called <a href=\"https://pandas.pydata.org/\">pandas</a>. Invented by programmers at a <a href=\"https://www.aqr.com/\">financial investment firm</a>, it has become a leading open-source library for accessing and analyzing data.</p>\n",
    "<p>Here’s how to use pandas yourself. Run the following:</p>\n",
    "    \n",
    "</div>"
   ]
  },
  {
   "cell_type": "code",
   "execution_count": 8,
   "id": "d9441941-4326-4e9a-850a-c5c175259dd6",
   "metadata": {},
   "outputs": [],
   "source": [
    "import pandas"
   ]
  },
  {
   "cell_type": "markdown",
   "id": "f05db38a-f532-4ba6-bd9f-0f7700a2eeb6",
   "metadata": {},
   "source": [
    "<div style=\"max-width: 640px\">\n",
    "\n",
    "<p>If nothing happens, that’s good. It means you have it installed and ready as to use.</p>\n",
    "<div class=\"alert alert-block alert-warning\">\n",
    "<p>Since pandas is created by a third party independent from the core Python developers, it may not be available by default if you manually installed Python and Jupyter. It’s available here because JupyterLite, whose developers have curated a list of common utilities to include with their distribution. Consult our <a href=\"https://palewi.re/docs/first-python-notebook/appendix/index.html\">advanced installation guide</a> if the cell above threw an error.</p>\n",
    "</div>\n",
    "<p>Now let&#39;s run the same code again, but with a small addition.</p>\n",
    "\n",
    "    \n",
    "</div>"
   ]
  },
  {
   "cell_type": "code",
   "execution_count": 10,
   "id": "bd9c5ff8-a7f4-409d-a7e2-550787b1dd33",
   "metadata": {},
   "outputs": [],
   "source": [
    "import pandas as pd"
   ]
  },
  {
   "cell_type": "markdown",
   "id": "81953ecf-f91a-4289-a7ea-b03289767de4",
   "metadata": {},
   "source": [
    "<div style=\"max-width: 640px\">\n",
    "\n",
    "This will alias the pandas library at the shorter variable name of `pd`. This is standard practice in the pandas community. You will frequently see examples of pandas code online using pd as shorthand. It’s not required, but it’s good to get in the habit so that your code will be better understood by other computer programmers.\n",
    "\n",
    "Those two little letters contain dozens of data analysis tools that we’ll use in future lessons. They can import massive data files, compute advanced statistics, filter, sort, rank and do just about anything else you’d want to do.\n",
    "\n",
    "We’ll get to all of that soon enough, but let’s start out with something simple. Let's run some simple stats.\n",
    "\n",
    "## Calculating descriptive statistics\n",
    "\n",
    "Start by making a list of numbers in a new notebook cell. To keep things simple, we'll start with all of the even numbers between zero and ten. Note the variable name I've assigned. Then press play.\n",
    "    \n",
    "</div>"
   ]
  },
  {
   "cell_type": "code",
   "execution_count": 15,
   "id": "76408f89-55ed-4996-ac0e-c520c91cb9f5",
   "metadata": {},
   "outputs": [],
   "source": [
    "my_list = [2, 4, 6, 8]"
   ]
  },
  {
   "cell_type": "markdown",
   "id": "85362e2b-756e-4f9e-bfa6-550311636793",
   "metadata": {},
   "source": [
    "<div style=\"max-width: 640px\">\n",
    "\n",
    "If you’re a skilled Python programmer, you can do some cool stuff with any list, including run statistics. But if you hand over to pandas instead, you’ll be impressed by how easily you can analyze the data without much computer code.\n",
    "\n",
    "\n",
    "In this case, it’s as simple as converting that plain Python list into what pandas calls a [`Series`](https://pandas.pydata.org/pandas-docs/stable/reference/api/pandas.Series.html). Here’s how to make it happen:\n",
    "    \n",
    "</div>"
   ]
  },
  {
   "cell_type": "code",
   "execution_count": 16,
   "id": "2855d3fe-4886-4715-ad7a-38bf0f8852dc",
   "metadata": {},
   "outputs": [],
   "source": [
    "my_series = pd.Series(my_list)"
   ]
  },
  {
   "cell_type": "markdown",
   "id": "6f121e7f-7abf-4f00-aae0-cc7dddadee05",
   "metadata": {},
   "source": [
    "<div style=\"max-width: 640px\">\n",
    "\n",
    "Once the data becomes a `Series`, you can immediately run a wide range of <a href=\"https://en.wikipedia.org/wiki/Descriptive_statistics\">descriptive statistics</a>. Let’s try a few.\n",
    "\n",
    "First, let’s sum all the numbers.\n",
    "    \n",
    "</div>"
   ]
  },
  {
   "cell_type": "code",
   "execution_count": 17,
   "id": "756d433a-5379-4df9-acea-252067ff7fff",
   "metadata": {},
   "outputs": [
    {
     "data": {
      "text/plain": [
       "20"
      ]
     },
     "execution_count": 17,
     "metadata": {},
     "output_type": "execute_result"
    }
   ],
   "source": [
    "my_series.sum()"
   ]
  },
  {
   "cell_type": "markdown",
   "id": "68da125e-beac-4b1e-b13a-08d1c264598b",
   "metadata": {},
   "source": [
    "Then find the maximum value."
   ]
  },
  {
   "cell_type": "code",
   "execution_count": 18,
   "id": "8f62ab11-b0bc-4565-9c3b-ce48d9229414",
   "metadata": {},
   "outputs": [
    {
     "data": {
      "text/plain": [
       "8"
      ]
     },
     "execution_count": 18,
     "metadata": {},
     "output_type": "execute_result"
    }
   ],
   "source": [
    "my_series.max()"
   ]
  },
  {
   "cell_type": "markdown",
   "id": "e8500cb7-657d-4dad-923c-71c13006ebda",
   "metadata": {
    "tags": []
   },
   "source": [
    "The minimum value."
   ]
  },
  {
   "cell_type": "code",
   "execution_count": 19,
   "id": "9b3036dd-b239-4f08-903f-989989c257f8",
   "metadata": {},
   "outputs": [
    {
     "data": {
      "text/plain": [
       "2"
      ]
     },
     "execution_count": 19,
     "metadata": {},
     "output_type": "execute_result"
    }
   ],
   "source": [
    "my_series.min()"
   ]
  },
  {
   "cell_type": "markdown",
   "id": "fe3fcf04-09c1-4acd-a924-85cf44e99146",
   "metadata": {},
   "source": [
    "How about the average, which also known as the mean?"
   ]
  },
  {
   "cell_type": "code",
   "execution_count": 20,
   "id": "3c4cfda5-eb9c-4279-ade2-12df439c3f81",
   "metadata": {},
   "outputs": [
    {
     "data": {
      "text/plain": [
       "5.0"
      ]
     },
     "execution_count": 20,
     "metadata": {},
     "output_type": "execute_result"
    }
   ],
   "source": [
    "my_series.mean()"
   ]
  },
  {
   "cell_type": "markdown",
   "id": "9f6c00db-188a-407a-ad38-dcf987c6182a",
   "metadata": {},
   "source": [
    "The median?"
   ]
  },
  {
   "cell_type": "code",
   "execution_count": 21,
   "id": "5e4cd26c-a2e3-495f-818d-339b10a91040",
   "metadata": {},
   "outputs": [
    {
     "data": {
      "text/plain": [
       "5.0"
      ]
     },
     "execution_count": 21,
     "metadata": {},
     "output_type": "execute_result"
    }
   ],
   "source": [
    "my_series.median()"
   ]
  },
  {
   "cell_type": "markdown",
   "id": "10ce7ebc-ae19-40a7-b235-9dce865ad33d",
   "metadata": {},
   "source": [
    "The standard deviation?"
   ]
  },
  {
   "cell_type": "code",
   "execution_count": 22,
   "id": "b94eb9e9-a92d-4651-8861-9a40545f2de1",
   "metadata": {},
   "outputs": [
    {
     "data": {
      "text/plain": [
       "2.581988897471611"
      ]
     },
     "execution_count": 22,
     "metadata": {},
     "output_type": "execute_result"
    }
   ],
   "source": [
    "my_series.std()"
   ]
  },
  {
   "cell_type": "markdown",
   "id": "56b13286-bc88-43c9-a972-51da525a5cd0",
   "metadata": {},
   "source": [
    "Finally, all of the above, plus a little more about the distribution, in one simple command."
   ]
  },
  {
   "cell_type": "code",
   "execution_count": 18,
   "id": "46aab258-f53c-4e01-9f10-67ed52ffb659",
   "metadata": {},
   "outputs": [
    {
     "data": {
      "text/plain": [
       "count    4.000000\n",
       "mean     5.000000\n",
       "std      2.581989\n",
       "min      2.000000\n",
       "25%      3.500000\n",
       "50%      5.000000\n",
       "75%      6.500000\n",
       "max      8.000000\n",
       "dtype: float64"
      ]
     },
     "execution_count": 18,
     "metadata": {},
     "output_type": "execute_result"
    }
   ],
   "source": [
    "my_series.describe()"
   ]
  },
  {
   "cell_type": "markdown",
   "id": "feb421c5-3519-42f3-a4f1-94d1d285f8c8",
   "metadata": {},
   "source": [
    "<div style=\"max-width: 640px\">\n",
    "\n",
    "Before you move on, go back the `my_list` variable and change the list. Maybe add a few more values. Or switch to odds. Then rerun all the cells above. You'll see all the statistics update to reflect the different dataset.\n",
    "\n",
    "Substitute in a series of 10 million records and your notebook would calculate all the same statistics without you needing to write any more code. Once your data, however large or complex, is imported into pandas, simple statistics become a snap.\n",
    "\n",
    "</div>"
   ]
  },
  {
   "cell_type": "markdown",
   "id": "2f2d5836-d7da-482d-a5f0-b1d96c845269",
   "metadata": {},
   "source": [
    "<div style=\"max-width:640px\">\n",
    "\n",
    "## Introducing DataFrames\n",
    "    \n",
    "Now it’s time to get our hands on some real data. In 2018, the Los Angeles Times published an investigation headlined, <a href=\"https://www.latimes.com/projects/la-me-robinson-helicopters/\">\"The Robinson R44, the world’s best-selling civilian helicopter, has a long history of deadly crashes\".</a>\n",
    "    \n",
    "It reported that the Robinson R44 led all major models with the highest fatal accident rate from 2006 to 2016. The analysis was <a href=\"https://github.com/datadesk/helicopter-accident-analysis\">published on GitHub</a> as a series of Jupyter notebooks. \n",
    "\n",
    "The analysis was based on two key datasets: \n",
    "   \n",
    "1. The National Transportation Safety Board's <a href=\"https://www.ntsb.gov/_layouts/ntsb.aviation/index.aspx\">Aviation Accident Database</a>\n",
    "2. The Federal Aviation Administration's <a href=\"https://www.faa.gov/data_research/aviation_data_statistics/general_aviation/\">General Aviation and Part 135 Activity Survey</a>\n",
    "\n",
    "After a significant amount of work gathering and cleaning the source data, the number of accidents for each helicopter model were normalized using the flight hours estimates in the survey. For the purposes of this demonstration, we will read in tidied versions of each file that are ready for analysis.\n",
    "    \n",
    "The data are structured in rows of comma-separated values. This is known as a [CSV file](https://en.wikipedia.org/wiki/Comma-separated_values). It is the most common way you will find data published online.\n",
    "\n",
    "The pandas library is able to read in files from a variety formats, including CSV. In our next cell, we'll use pandas' `read_csv` method to read in `ntsb-accidents.csv`.\n",
    "    \n",
    "</div>"
   ]
  },
  {
   "cell_type": "code",
   "execution_count": 29,
   "id": "0edb4c5c-be44-4b66-ac7d-0eb2eff70d44",
   "metadata": {},
   "outputs": [
    {
     "data": {
      "text/html": [
       "<div>\n",
       "<style scoped>\n",
       "    .dataframe tbody tr th:only-of-type {\n",
       "        vertical-align: middle;\n",
       "    }\n",
       "\n",
       "    .dataframe tbody tr th {\n",
       "        vertical-align: top;\n",
       "    }\n",
       "\n",
       "    .dataframe thead th {\n",
       "        text-align: right;\n",
       "    }\n",
       "</style>\n",
       "<table border=\"1\" class=\"dataframe\">\n",
       "  <thead>\n",
       "    <tr style=\"text-align: right;\">\n",
       "      <th></th>\n",
       "      <th>event_id</th>\n",
       "      <th>aircraft_id</th>\n",
       "      <th>ntsb_make</th>\n",
       "      <th>ntsb_model</th>\n",
       "      <th>ntsb_number</th>\n",
       "      <th>year</th>\n",
       "      <th>date</th>\n",
       "      <th>city</th>\n",
       "      <th>state</th>\n",
       "      <th>country</th>\n",
       "      <th>total_fatalities</th>\n",
       "      <th>in_usa</th>\n",
       "      <th>pilot_total</th>\n",
       "      <th>latimes_make</th>\n",
       "      <th>latimes_model</th>\n",
       "      <th>count</th>\n",
       "      <th>latimes_make_and_model</th>\n",
       "    </tr>\n",
       "  </thead>\n",
       "  <tbody>\n",
       "    <tr>\n",
       "      <th>0</th>\n",
       "      <td>20121010X41638</td>\n",
       "      <td>1</td>\n",
       "      <td>BELL</td>\n",
       "      <td>206B</td>\n",
       "      <td>CEN13FA009</td>\n",
       "      <td>2012</td>\n",
       "      <td>10/10/12 00:00:00</td>\n",
       "      <td>CROWLEY</td>\n",
       "      <td>LA</td>\n",
       "      <td>USA</td>\n",
       "      <td>1.0</td>\n",
       "      <td>True</td>\n",
       "      <td>1.0</td>\n",
       "      <td>BELL</td>\n",
       "      <td>206</td>\n",
       "      <td>112.0</td>\n",
       "      <td>BELL 206</td>\n",
       "    </tr>\n",
       "    <tr>\n",
       "      <th>1</th>\n",
       "      <td>20130222X12624</td>\n",
       "      <td>1</td>\n",
       "      <td>EUROCOPTER</td>\n",
       "      <td>AS 350 B2</td>\n",
       "      <td>CEN13FA174</td>\n",
       "      <td>2013</td>\n",
       "      <td>02/22/13 00:00:00</td>\n",
       "      <td>OKLAHOMA CITY</td>\n",
       "      <td>OK</td>\n",
       "      <td>USA</td>\n",
       "      <td>2.0</td>\n",
       "      <td>True</td>\n",
       "      <td>1.0</td>\n",
       "      <td>AIRBUS</td>\n",
       "      <td>350</td>\n",
       "      <td>8.0</td>\n",
       "      <td>AIRBUS 350</td>\n",
       "    </tr>\n",
       "    <tr>\n",
       "      <th>2</th>\n",
       "      <td>20140127X44720</td>\n",
       "      <td>1</td>\n",
       "      <td>BELL</td>\n",
       "      <td>206L 3</td>\n",
       "      <td>CEN14FA122</td>\n",
       "      <td>2014</td>\n",
       "      <td>01/27/14 00:00:00</td>\n",
       "      <td>SILT</td>\n",
       "      <td>CO</td>\n",
       "      <td>USA</td>\n",
       "      <td>3.0</td>\n",
       "      <td>True</td>\n",
       "      <td>1.0</td>\n",
       "      <td>BELL</td>\n",
       "      <td>206</td>\n",
       "      <td>3.0</td>\n",
       "      <td>BELL 206</td>\n",
       "    </tr>\n",
       "    <tr>\n",
       "      <th>3</th>\n",
       "      <td>20091012X15520</td>\n",
       "      <td>1</td>\n",
       "      <td>MCDONNELL DOUGLAS HELI CO</td>\n",
       "      <td>369FF</td>\n",
       "      <td>WPR10FA012</td>\n",
       "      <td>2009</td>\n",
       "      <td>10/12/09 00:00:00</td>\n",
       "      <td>FOSSIL</td>\n",
       "      <td>OR</td>\n",
       "      <td>USA</td>\n",
       "      <td>1.0</td>\n",
       "      <td>True</td>\n",
       "      <td>1.0</td>\n",
       "      <td>MCDONNELL DOUGLAS</td>\n",
       "      <td>369</td>\n",
       "      <td>3.0</td>\n",
       "      <td>MCDONNELL DOUGLAS 369</td>\n",
       "    </tr>\n",
       "    <tr>\n",
       "      <th>4</th>\n",
       "      <td>20161116X00108</td>\n",
       "      <td>1</td>\n",
       "      <td>HUGHES</td>\n",
       "      <td>369D/500D</td>\n",
       "      <td>WPR17FA021</td>\n",
       "      <td>2016</td>\n",
       "      <td>11/15/16 00:00:00</td>\n",
       "      <td>PUKOO</td>\n",
       "      <td>HI</td>\n",
       "      <td>USA</td>\n",
       "      <td>2.0</td>\n",
       "      <td>True</td>\n",
       "      <td>1.0</td>\n",
       "      <td>HUGHES</td>\n",
       "      <td>369</td>\n",
       "      <td>1.0</td>\n",
       "      <td>HUGHES 369</td>\n",
       "    </tr>\n",
       "    <tr>\n",
       "      <th>...</th>\n",
       "      <td>...</td>\n",
       "      <td>...</td>\n",
       "      <td>...</td>\n",
       "      <td>...</td>\n",
       "      <td>...</td>\n",
       "      <td>...</td>\n",
       "      <td>...</td>\n",
       "      <td>...</td>\n",
       "      <td>...</td>\n",
       "      <td>...</td>\n",
       "      <td>...</td>\n",
       "      <td>...</td>\n",
       "      <td>...</td>\n",
       "      <td>...</td>\n",
       "      <td>...</td>\n",
       "      <td>...</td>\n",
       "      <td>...</td>\n",
       "    </tr>\n",
       "    <tr>\n",
       "      <th>158</th>\n",
       "      <td>20070802X01089</td>\n",
       "      <td>1</td>\n",
       "      <td>EUROCOPTER</td>\n",
       "      <td>AS350-B2</td>\n",
       "      <td>LAX07MA231</td>\n",
       "      <td>2007</td>\n",
       "      <td>07/27/07 00:00:00</td>\n",
       "      <td>PHOENIX</td>\n",
       "      <td>AZ</td>\n",
       "      <td>USA</td>\n",
       "      <td>4.0</td>\n",
       "      <td>True</td>\n",
       "      <td>1.0</td>\n",
       "      <td>AIRBUS</td>\n",
       "      <td>350</td>\n",
       "      <td>3.0</td>\n",
       "      <td>AIRBUS 350</td>\n",
       "    </tr>\n",
       "    <tr>\n",
       "      <th>159</th>\n",
       "      <td>20070802X01089</td>\n",
       "      <td>2</td>\n",
       "      <td>EUROCOPTER</td>\n",
       "      <td>AS350-B2</td>\n",
       "      <td>LAX07MA231</td>\n",
       "      <td>2007</td>\n",
       "      <td>07/27/07 00:00:00</td>\n",
       "      <td>PHOENIX</td>\n",
       "      <td>AZ</td>\n",
       "      <td>USA</td>\n",
       "      <td>4.0</td>\n",
       "      <td>True</td>\n",
       "      <td>1.0</td>\n",
       "      <td>AIRBUS</td>\n",
       "      <td>350</td>\n",
       "      <td>3.0</td>\n",
       "      <td>AIRBUS 350</td>\n",
       "    </tr>\n",
       "    <tr>\n",
       "      <th>160</th>\n",
       "      <td>20060605X00682</td>\n",
       "      <td>1</td>\n",
       "      <td>BELL</td>\n",
       "      <td>206L-3</td>\n",
       "      <td>DFW06IA145</td>\n",
       "      <td>2006</td>\n",
       "      <td>05/30/06 00:00:00</td>\n",
       "      <td>GRAND ISLE 43AA</td>\n",
       "      <td>GM</td>\n",
       "      <td>USA</td>\n",
       "      <td>1.0</td>\n",
       "      <td>True</td>\n",
       "      <td>1.0</td>\n",
       "      <td>BELL</td>\n",
       "      <td>206</td>\n",
       "      <td>20.0</td>\n",
       "      <td>BELL 206</td>\n",
       "    </tr>\n",
       "    <tr>\n",
       "      <th>161</th>\n",
       "      <td>20140717X70001</td>\n",
       "      <td>1</td>\n",
       "      <td>AGUSTA SPA</td>\n",
       "      <td>A109E</td>\n",
       "      <td>CEN14FA369</td>\n",
       "      <td>2014</td>\n",
       "      <td>07/17/14 00:00:00</td>\n",
       "      <td>NEWKIRK</td>\n",
       "      <td>NM</td>\n",
       "      <td>USA</td>\n",
       "      <td>3.0</td>\n",
       "      <td>True</td>\n",
       "      <td>1.0</td>\n",
       "      <td>AGUSTA</td>\n",
       "      <td>109</td>\n",
       "      <td>2.0</td>\n",
       "      <td>AGUSTA 109</td>\n",
       "    </tr>\n",
       "    <tr>\n",
       "      <th>162</th>\n",
       "      <td>20160612X85856</td>\n",
       "      <td>1</td>\n",
       "      <td>ROBINSON HELICOPTER COMPANY</td>\n",
       "      <td>R44 II</td>\n",
       "      <td>CEN16FA215</td>\n",
       "      <td>2016</td>\n",
       "      <td>06/12/16 00:00:00</td>\n",
       "      <td>JONESBORO</td>\n",
       "      <td>AR</td>\n",
       "      <td>USA</td>\n",
       "      <td>1.0</td>\n",
       "      <td>True</td>\n",
       "      <td>1.0</td>\n",
       "      <td>ROBINSON</td>\n",
       "      <td>R44</td>\n",
       "      <td>22.0</td>\n",
       "      <td>ROBINSON R44</td>\n",
       "    </tr>\n",
       "  </tbody>\n",
       "</table>\n",
       "<p>163 rows × 17 columns</p>\n",
       "</div>"
      ],
      "text/plain": [
       "           event_id  aircraft_id                    ntsb_make ntsb_model  \\\n",
       "0    20121010X41638            1                         BELL       206B   \n",
       "1    20130222X12624            1                   EUROCOPTER  AS 350 B2   \n",
       "2    20140127X44720            1                         BELL     206L 3   \n",
       "3    20091012X15520            1    MCDONNELL DOUGLAS HELI CO      369FF   \n",
       "4    20161116X00108            1                       HUGHES  369D/500D   \n",
       "..              ...          ...                          ...        ...   \n",
       "158  20070802X01089            1                   EUROCOPTER   AS350-B2   \n",
       "159  20070802X01089            2                   EUROCOPTER   AS350-B2   \n",
       "160  20060605X00682            1                         BELL     206L-3   \n",
       "161  20140717X70001            1                   AGUSTA SPA      A109E   \n",
       "162  20160612X85856            1  ROBINSON HELICOPTER COMPANY     R44 II   \n",
       "\n",
       "    ntsb_number  year               date             city state country  \\\n",
       "0    CEN13FA009  2012  10/10/12 00:00:00          CROWLEY    LA     USA   \n",
       "1    CEN13FA174  2013  02/22/13 00:00:00    OKLAHOMA CITY    OK     USA   \n",
       "2    CEN14FA122  2014  01/27/14 00:00:00             SILT    CO     USA   \n",
       "3    WPR10FA012  2009  10/12/09 00:00:00           FOSSIL    OR     USA   \n",
       "4    WPR17FA021  2016  11/15/16 00:00:00            PUKOO    HI     USA   \n",
       "..          ...   ...                ...              ...   ...     ...   \n",
       "158  LAX07MA231  2007  07/27/07 00:00:00          PHOENIX    AZ     USA   \n",
       "159  LAX07MA231  2007  07/27/07 00:00:00          PHOENIX    AZ     USA   \n",
       "160  DFW06IA145  2006  05/30/06 00:00:00  GRAND ISLE 43AA    GM     USA   \n",
       "161  CEN14FA369  2014  07/17/14 00:00:00          NEWKIRK    NM     USA   \n",
       "162  CEN16FA215  2016  06/12/16 00:00:00        JONESBORO    AR     USA   \n",
       "\n",
       "     total_fatalities  in_usa  pilot_total       latimes_make latimes_model  \\\n",
       "0                 1.0    True          1.0               BELL           206   \n",
       "1                 2.0    True          1.0             AIRBUS           350   \n",
       "2                 3.0    True          1.0               BELL           206   \n",
       "3                 1.0    True          1.0  MCDONNELL DOUGLAS           369   \n",
       "4                 2.0    True          1.0             HUGHES           369   \n",
       "..                ...     ...          ...                ...           ...   \n",
       "158               4.0    True          1.0             AIRBUS           350   \n",
       "159               4.0    True          1.0             AIRBUS           350   \n",
       "160               1.0    True          1.0               BELL           206   \n",
       "161               3.0    True          1.0             AGUSTA           109   \n",
       "162               1.0    True          1.0           ROBINSON           R44   \n",
       "\n",
       "     count latimes_make_and_model  \n",
       "0    112.0               BELL 206  \n",
       "1      8.0             AIRBUS 350  \n",
       "2      3.0               BELL 206  \n",
       "3      3.0  MCDONNELL DOUGLAS 369  \n",
       "4      1.0             HUGHES 369  \n",
       "..     ...                    ...  \n",
       "158    3.0             AIRBUS 350  \n",
       "159    3.0             AIRBUS 350  \n",
       "160   20.0               BELL 206  \n",
       "161    2.0             AGUSTA 109  \n",
       "162   22.0           ROBINSON R44  \n",
       "\n",
       "[163 rows x 17 columns]"
      ]
     },
     "execution_count": 29,
     "metadata": {},
     "output_type": "execute_result"
    }
   ],
   "source": [
    "pd.read_csv(\"ntsb-accidents.csv\")"
   ]
  },
  {
   "cell_type": "markdown",
   "id": "b595fc09-d269-4452-8edc-0d9d4b3bcded",
   "metadata": {},
   "source": [
    "<div style=\"max-width:640px\">\n",
    "\n",
    "You should see a big table like the one above. It is a DataFrame where pandas has structured the CSV data into rows and columns, just like Excel or other spreadsheet software might.\n",
    "\n",
    "A major advantage of Jupyter over spreadsheets is that rather than manipulating the data through a haphazard series of clicks and keypunches we will be gradually grinding it down using a computer programming script that is transparent and reproducible.\n",
    "\n",
    "In order to do more with your DataFrame, we need to store it so it can be reused in subsequent cells. We can do this by saving in a variable, which is a fancy computer programming word for a named shortcut where we save our work as we go.\n",
    "\n",
    "</div>"
   ]
  },
  {
   "cell_type": "code",
   "execution_count": 30,
   "id": "35eec507-f2f1-4f41-8876-7e23580ea936",
   "metadata": {},
   "outputs": [],
   "source": [
    "accident_list = pd.read_csv(\"ntsb-accidents.csv\")"
   ]
  },
  {
   "cell_type": "markdown",
   "id": "90b4cd4e-308e-4415-8a27-8f0d279c7eca",
   "metadata": {},
   "source": [
    "<div style=\"max-width:640px\">\n",
    "\n",
    "After you run it, you shouldn’t see anything. That’s a good thing. It means our DataFrame has been saved under the name `accident_list`, which we can now begin interacting with in the cells that follow.\n",
    "\n",
    "We can do this by calling “methods” that pandas makes available to all DataFrames. You may not have known it at the time, but `read_csv` is one of these methods. There are dozens more that can do all sorts of interesting things. Let’s start with some easy ones that analysts use all the time.\n",
    "\n",
    "To preview the first few rows of the dataset, try the <a href=\"https://pandas.pydata.org/pandas-docs/stable/generated/pandas.DataFrame.head.html\">`head`</a> method.\n",
    "    \n",
    "</div>"
   ]
  },
  {
   "cell_type": "code",
   "execution_count": 31,
   "id": "64ff2b46-590e-4b47-8fb5-ed034fad8a1c",
   "metadata": {},
   "outputs": [
    {
     "data": {
      "text/html": [
       "<div>\n",
       "<style scoped>\n",
       "    .dataframe tbody tr th:only-of-type {\n",
       "        vertical-align: middle;\n",
       "    }\n",
       "\n",
       "    .dataframe tbody tr th {\n",
       "        vertical-align: top;\n",
       "    }\n",
       "\n",
       "    .dataframe thead th {\n",
       "        text-align: right;\n",
       "    }\n",
       "</style>\n",
       "<table border=\"1\" class=\"dataframe\">\n",
       "  <thead>\n",
       "    <tr style=\"text-align: right;\">\n",
       "      <th></th>\n",
       "      <th>event_id</th>\n",
       "      <th>aircraft_id</th>\n",
       "      <th>ntsb_make</th>\n",
       "      <th>ntsb_model</th>\n",
       "      <th>ntsb_number</th>\n",
       "      <th>year</th>\n",
       "      <th>date</th>\n",
       "      <th>city</th>\n",
       "      <th>state</th>\n",
       "      <th>country</th>\n",
       "      <th>total_fatalities</th>\n",
       "      <th>in_usa</th>\n",
       "      <th>pilot_total</th>\n",
       "      <th>latimes_make</th>\n",
       "      <th>latimes_model</th>\n",
       "      <th>count</th>\n",
       "      <th>latimes_make_and_model</th>\n",
       "    </tr>\n",
       "  </thead>\n",
       "  <tbody>\n",
       "    <tr>\n",
       "      <th>0</th>\n",
       "      <td>20121010X41638</td>\n",
       "      <td>1</td>\n",
       "      <td>BELL</td>\n",
       "      <td>206B</td>\n",
       "      <td>CEN13FA009</td>\n",
       "      <td>2012</td>\n",
       "      <td>10/10/12 00:00:00</td>\n",
       "      <td>CROWLEY</td>\n",
       "      <td>LA</td>\n",
       "      <td>USA</td>\n",
       "      <td>1.0</td>\n",
       "      <td>True</td>\n",
       "      <td>1.0</td>\n",
       "      <td>BELL</td>\n",
       "      <td>206</td>\n",
       "      <td>112.0</td>\n",
       "      <td>BELL 206</td>\n",
       "    </tr>\n",
       "    <tr>\n",
       "      <th>1</th>\n",
       "      <td>20130222X12624</td>\n",
       "      <td>1</td>\n",
       "      <td>EUROCOPTER</td>\n",
       "      <td>AS 350 B2</td>\n",
       "      <td>CEN13FA174</td>\n",
       "      <td>2013</td>\n",
       "      <td>02/22/13 00:00:00</td>\n",
       "      <td>OKLAHOMA CITY</td>\n",
       "      <td>OK</td>\n",
       "      <td>USA</td>\n",
       "      <td>2.0</td>\n",
       "      <td>True</td>\n",
       "      <td>1.0</td>\n",
       "      <td>AIRBUS</td>\n",
       "      <td>350</td>\n",
       "      <td>8.0</td>\n",
       "      <td>AIRBUS 350</td>\n",
       "    </tr>\n",
       "    <tr>\n",
       "      <th>2</th>\n",
       "      <td>20140127X44720</td>\n",
       "      <td>1</td>\n",
       "      <td>BELL</td>\n",
       "      <td>206L 3</td>\n",
       "      <td>CEN14FA122</td>\n",
       "      <td>2014</td>\n",
       "      <td>01/27/14 00:00:00</td>\n",
       "      <td>SILT</td>\n",
       "      <td>CO</td>\n",
       "      <td>USA</td>\n",
       "      <td>3.0</td>\n",
       "      <td>True</td>\n",
       "      <td>1.0</td>\n",
       "      <td>BELL</td>\n",
       "      <td>206</td>\n",
       "      <td>3.0</td>\n",
       "      <td>BELL 206</td>\n",
       "    </tr>\n",
       "    <tr>\n",
       "      <th>3</th>\n",
       "      <td>20091012X15520</td>\n",
       "      <td>1</td>\n",
       "      <td>MCDONNELL DOUGLAS HELI CO</td>\n",
       "      <td>369FF</td>\n",
       "      <td>WPR10FA012</td>\n",
       "      <td>2009</td>\n",
       "      <td>10/12/09 00:00:00</td>\n",
       "      <td>FOSSIL</td>\n",
       "      <td>OR</td>\n",
       "      <td>USA</td>\n",
       "      <td>1.0</td>\n",
       "      <td>True</td>\n",
       "      <td>1.0</td>\n",
       "      <td>MCDONNELL DOUGLAS</td>\n",
       "      <td>369</td>\n",
       "      <td>3.0</td>\n",
       "      <td>MCDONNELL DOUGLAS 369</td>\n",
       "    </tr>\n",
       "    <tr>\n",
       "      <th>4</th>\n",
       "      <td>20161116X00108</td>\n",
       "      <td>1</td>\n",
       "      <td>HUGHES</td>\n",
       "      <td>369D/500D</td>\n",
       "      <td>WPR17FA021</td>\n",
       "      <td>2016</td>\n",
       "      <td>11/15/16 00:00:00</td>\n",
       "      <td>PUKOO</td>\n",
       "      <td>HI</td>\n",
       "      <td>USA</td>\n",
       "      <td>2.0</td>\n",
       "      <td>True</td>\n",
       "      <td>1.0</td>\n",
       "      <td>HUGHES</td>\n",
       "      <td>369</td>\n",
       "      <td>1.0</td>\n",
       "      <td>HUGHES 369</td>\n",
       "    </tr>\n",
       "  </tbody>\n",
       "</table>\n",
       "</div>"
      ],
      "text/plain": [
       "         event_id  aircraft_id                  ntsb_make ntsb_model  \\\n",
       "0  20121010X41638            1                       BELL       206B   \n",
       "1  20130222X12624            1                 EUROCOPTER  AS 350 B2   \n",
       "2  20140127X44720            1                       BELL     206L 3   \n",
       "3  20091012X15520            1  MCDONNELL DOUGLAS HELI CO      369FF   \n",
       "4  20161116X00108            1                     HUGHES  369D/500D   \n",
       "\n",
       "  ntsb_number  year               date           city state country  \\\n",
       "0  CEN13FA009  2012  10/10/12 00:00:00        CROWLEY    LA     USA   \n",
       "1  CEN13FA174  2013  02/22/13 00:00:00  OKLAHOMA CITY    OK     USA   \n",
       "2  CEN14FA122  2014  01/27/14 00:00:00           SILT    CO     USA   \n",
       "3  WPR10FA012  2009  10/12/09 00:00:00         FOSSIL    OR     USA   \n",
       "4  WPR17FA021  2016  11/15/16 00:00:00          PUKOO    HI     USA   \n",
       "\n",
       "   total_fatalities  in_usa  pilot_total       latimes_make latimes_model  \\\n",
       "0               1.0    True          1.0               BELL           206   \n",
       "1               2.0    True          1.0             AIRBUS           350   \n",
       "2               3.0    True          1.0               BELL           206   \n",
       "3               1.0    True          1.0  MCDONNELL DOUGLAS           369   \n",
       "4               2.0    True          1.0             HUGHES           369   \n",
       "\n",
       "   count latimes_make_and_model  \n",
       "0  112.0               BELL 206  \n",
       "1    8.0             AIRBUS 350  \n",
       "2    3.0               BELL 206  \n",
       "3    3.0  MCDONNELL DOUGLAS 369  \n",
       "4    1.0             HUGHES 369  "
      ]
     },
     "execution_count": 31,
     "metadata": {},
     "output_type": "execute_result"
    }
   ],
   "source": [
    "accident_list.head()"
   ]
  },
  {
   "cell_type": "markdown",
   "id": "93f961f8-ec17-48e8-99fa-27198993e556",
   "metadata": {},
   "source": [
    "It does the first five by default. If you want a different number, submit it as an input."
   ]
  },
  {
   "cell_type": "code",
   "execution_count": 32,
   "id": "a41bb56e-466b-4399-a3a3-1cd488c5f435",
   "metadata": {},
   "outputs": [
    {
     "data": {
      "text/html": [
       "<div>\n",
       "<style scoped>\n",
       "    .dataframe tbody tr th:only-of-type {\n",
       "        vertical-align: middle;\n",
       "    }\n",
       "\n",
       "    .dataframe tbody tr th {\n",
       "        vertical-align: top;\n",
       "    }\n",
       "\n",
       "    .dataframe thead th {\n",
       "        text-align: right;\n",
       "    }\n",
       "</style>\n",
       "<table border=\"1\" class=\"dataframe\">\n",
       "  <thead>\n",
       "    <tr style=\"text-align: right;\">\n",
       "      <th></th>\n",
       "      <th>event_id</th>\n",
       "      <th>aircraft_id</th>\n",
       "      <th>ntsb_make</th>\n",
       "      <th>ntsb_model</th>\n",
       "      <th>ntsb_number</th>\n",
       "      <th>year</th>\n",
       "      <th>date</th>\n",
       "      <th>city</th>\n",
       "      <th>state</th>\n",
       "      <th>country</th>\n",
       "      <th>total_fatalities</th>\n",
       "      <th>in_usa</th>\n",
       "      <th>pilot_total</th>\n",
       "      <th>latimes_make</th>\n",
       "      <th>latimes_model</th>\n",
       "      <th>count</th>\n",
       "      <th>latimes_make_and_model</th>\n",
       "    </tr>\n",
       "  </thead>\n",
       "  <tbody>\n",
       "    <tr>\n",
       "      <th>0</th>\n",
       "      <td>20121010X41638</td>\n",
       "      <td>1</td>\n",
       "      <td>BELL</td>\n",
       "      <td>206B</td>\n",
       "      <td>CEN13FA009</td>\n",
       "      <td>2012</td>\n",
       "      <td>10/10/12 00:00:00</td>\n",
       "      <td>CROWLEY</td>\n",
       "      <td>LA</td>\n",
       "      <td>USA</td>\n",
       "      <td>1.0</td>\n",
       "      <td>True</td>\n",
       "      <td>1.0</td>\n",
       "      <td>BELL</td>\n",
       "      <td>206</td>\n",
       "      <td>112.0</td>\n",
       "      <td>BELL 206</td>\n",
       "    </tr>\n",
       "  </tbody>\n",
       "</table>\n",
       "</div>"
      ],
      "text/plain": [
       "         event_id  aircraft_id ntsb_make ntsb_model ntsb_number  year  \\\n",
       "0  20121010X41638            1      BELL       206B  CEN13FA009  2012   \n",
       "\n",
       "                date     city state country  total_fatalities  in_usa  \\\n",
       "0  10/10/12 00:00:00  CROWLEY    LA     USA               1.0    True   \n",
       "\n",
       "   pilot_total latimes_make latimes_model  count latimes_make_and_model  \n",
       "0          1.0         BELL           206  112.0               BELL 206  "
      ]
     },
     "execution_count": 32,
     "metadata": {},
     "output_type": "execute_result"
    }
   ],
   "source": [
    "accident_list.head(1)"
   ]
  },
  {
   "cell_type": "markdown",
   "id": "e96ac71f-9a87-4dce-933d-c11438fbfdd6",
   "metadata": {},
   "source": [
    "To get a look at all of the columns and what type of data they store, try the [`info`](https://pandas.pydata.org/pandas-docs/stable/generated/pandas.DataFrame.info.html) method."
   ]
  },
  {
   "cell_type": "code",
   "execution_count": 33,
   "id": "e97c9296-d55b-439c-a692-7929b1e46be7",
   "metadata": {},
   "outputs": [
    {
     "name": "stdout",
     "output_type": "stream",
     "text": [
      "<class 'pandas.core.frame.DataFrame'>\n",
      "RangeIndex: 163 entries, 0 to 162\n",
      "Data columns (total 17 columns):\n",
      " #   Column                  Non-Null Count  Dtype  \n",
      "---  ------                  --------------  -----  \n",
      " 0   event_id                163 non-null    object \n",
      " 1   aircraft_id             163 non-null    int64  \n",
      " 2   ntsb_make               163 non-null    object \n",
      " 3   ntsb_model              163 non-null    object \n",
      " 4   ntsb_number             163 non-null    object \n",
      " 5   year                    163 non-null    int64  \n",
      " 6   date                    163 non-null    object \n",
      " 7   city                    163 non-null    object \n",
      " 8   state                   162 non-null    object \n",
      " 9   country                 163 non-null    object \n",
      " 10  total_fatalities        163 non-null    float64\n",
      " 11  in_usa                  163 non-null    bool   \n",
      " 12  pilot_total             163 non-null    float64\n",
      " 13  latimes_make            163 non-null    object \n",
      " 14  latimes_model           163 non-null    object \n",
      " 15  count                   163 non-null    float64\n",
      " 16  latimes_make_and_model  163 non-null    object \n",
      "dtypes: bool(1), float64(3), int64(2), object(11)\n",
      "memory usage: 20.7+ KB\n"
     ]
    }
   ],
   "source": [
    "accident_list.info()"
   ]
  },
  {
   "cell_type": "markdown",
   "id": "a378b483-4e55-4b3d-a6bc-10436f8f7931",
   "metadata": {},
   "source": [
    "Look carefully at the results and you'll see we have 163 fatal accidents."
   ]
  },
  {
   "cell_type": "markdown",
   "id": "48dda7eb-0236-4823-99f8-4e2398be1b0c",
   "metadata": {
    "tags": []
   },
   "source": [
    "## Inspecting columns"
   ]
  },
  {
   "cell_type": "markdown",
   "id": "8b2f1387-f380-4be5-9df5-9944fb2238cd",
   "metadata": {},
   "source": [
    "<div style=\"max-width: 640px;\">\n",
    "\n",
    "To see the contents of a column separate from the rest of the DataFrame, add the column’s name to the DataFrame’s variable following a period. We’ll begin with the `latimes_make_and_model` column, which records the standardized name of the helicopter that crashed.\n",
    "\n",
    "</div>"
   ]
  },
  {
   "cell_type": "code",
   "execution_count": 36,
   "id": "34aa8c96-1ae8-4e86-b8fe-eae3ade27d77",
   "metadata": {},
   "outputs": [
    {
     "data": {
      "text/plain": [
       "0                   BELL 206\n",
       "1                 AIRBUS 350\n",
       "2                   BELL 206\n",
       "3      MCDONNELL DOUGLAS 369\n",
       "4                 HUGHES 369\n",
       "               ...          \n",
       "158               AIRBUS 350\n",
       "159               AIRBUS 350\n",
       "160                 BELL 206\n",
       "161               AGUSTA 109\n",
       "162             ROBINSON R44\n",
       "Name: latimes_make_and_model, Length: 163, dtype: object"
      ]
     },
     "execution_count": 36,
     "metadata": {},
     "output_type": "execute_result"
    }
   ],
   "source": [
    "accident_list.latimes_make_and_model"
   ]
  },
  {
   "cell_type": "markdown",
   "id": "b2aabf7e-fb8a-4b67-af2b-da22baac22ba",
   "metadata": {},
   "source": [
    "<div style=\"max-width: 640px;\">\n",
    "\n",
    "That will list the column out as a `Series`, just like the ones we created from scratch earlier. Just as we did then, you can now start tacking on additional methods that will analyze the contents of the column.\n",
    "\n",
    "\n",
    "<div class=\"alert alert-block alert-warning\">    \n",
    "    <p>You can also access columns a second way, like this: accident_list['latimes_make_and_model'].</p><p>This method isn’t as pretty, but it’s required if your column has a space in its name, which would break the simpler dot-based method.</p>\n",
    "</div>\n",
    "    \n",
    "In this case, the column is filled with characters. So we don’t want to calculate statistics like the median and average, as we did before.\n",
    "\n",
    "There’s another built-in pandas tool that will total up the frequency of values in a column. The method is called `value_counts` and it’s just as easy to use as sum, min or max. All you need to do it is add a period after the column name and chain it on the tail end of your cell.\n",
    "\n",
    "Run the code and you should see the locations ranked by their number of sites.\n",
    "\n",
    "</div>"
   ]
  },
  {
   "cell_type": "code",
   "execution_count": 37,
   "id": "b37fbaa3-6edf-4854-8c7e-e6806d921d24",
   "metadata": {},
   "outputs": [
    {
     "data": {
      "text/plain": [
       "ROBINSON R44             38\n",
       "BELL 206                 30\n",
       "AIRBUS 350               29\n",
       "ROBINSON R22             20\n",
       "HUGHES 369               13\n",
       "BELL 407                 13\n",
       "MCDONNELL DOUGLAS 369     6\n",
       "SCHWEIZER 269             5\n",
       "AIRBUS 135                4\n",
       "SIKORSKY 76               2\n",
       "AGUSTA 109                2\n",
       "AIRBUS 130                1\n",
       "Name: latimes_make_and_model, dtype: int64"
      ]
     },
     "execution_count": 37,
     "metadata": {},
     "output_type": "execute_result"
    }
   ],
   "source": [
    "accident_list.latimes_make_and_model.value_counts()"
   ]
  },
  {
   "cell_type": "markdown",
   "id": "4e59c465-9813-48b8-98c0-d926516bda1a",
   "metadata": {},
   "source": [
    "<div style=\"max-width: 640px;\">\n",
    "\n",
    "Congratulations, you've made your first finding. With that little line of code, you've calculated an important fact: During the period being studied, the Robinson R44 had more fatal accidents than any other helicopter.\n",
    "    \n",
    "You may notice that even though the result has two columns, pandas did not return a clean-looking table in the same way as `head` did for our DataFrame. That’s because our column, a Series, acts a little bit different than the DataFrame created by `read_csv`.\n",
    "\n",
    "In most instances, if you have an ugly Series generated by a method like `value_counts` and you want to convert it into a pretty DataFram,e you can do so by tacking on the `reset_index` method on the end.\n",
    "\n",
    "</div>"
   ]
  },
  {
   "cell_type": "code",
   "execution_count": 39,
   "id": "b53c601c-09e2-475e-90e7-2aeaae4e51a7",
   "metadata": {},
   "outputs": [
    {
     "data": {
      "text/html": [
       "<div>\n",
       "<style scoped>\n",
       "    .dataframe tbody tr th:only-of-type {\n",
       "        vertical-align: middle;\n",
       "    }\n",
       "\n",
       "    .dataframe tbody tr th {\n",
       "        vertical-align: top;\n",
       "    }\n",
       "\n",
       "    .dataframe thead th {\n",
       "        text-align: right;\n",
       "    }\n",
       "</style>\n",
       "<table border=\"1\" class=\"dataframe\">\n",
       "  <thead>\n",
       "    <tr style=\"text-align: right;\">\n",
       "      <th></th>\n",
       "      <th>index</th>\n",
       "      <th>latimes_make_and_model</th>\n",
       "    </tr>\n",
       "  </thead>\n",
       "  <tbody>\n",
       "    <tr>\n",
       "      <th>0</th>\n",
       "      <td>ROBINSON R44</td>\n",
       "      <td>38</td>\n",
       "    </tr>\n",
       "    <tr>\n",
       "      <th>1</th>\n",
       "      <td>BELL 206</td>\n",
       "      <td>30</td>\n",
       "    </tr>\n",
       "    <tr>\n",
       "      <th>2</th>\n",
       "      <td>AIRBUS 350</td>\n",
       "      <td>29</td>\n",
       "    </tr>\n",
       "    <tr>\n",
       "      <th>3</th>\n",
       "      <td>ROBINSON R22</td>\n",
       "      <td>20</td>\n",
       "    </tr>\n",
       "    <tr>\n",
       "      <th>4</th>\n",
       "      <td>HUGHES 369</td>\n",
       "      <td>13</td>\n",
       "    </tr>\n",
       "    <tr>\n",
       "      <th>5</th>\n",
       "      <td>BELL 407</td>\n",
       "      <td>13</td>\n",
       "    </tr>\n",
       "    <tr>\n",
       "      <th>6</th>\n",
       "      <td>MCDONNELL DOUGLAS 369</td>\n",
       "      <td>6</td>\n",
       "    </tr>\n",
       "    <tr>\n",
       "      <th>7</th>\n",
       "      <td>SCHWEIZER 269</td>\n",
       "      <td>5</td>\n",
       "    </tr>\n",
       "    <tr>\n",
       "      <th>8</th>\n",
       "      <td>AIRBUS 135</td>\n",
       "      <td>4</td>\n",
       "    </tr>\n",
       "    <tr>\n",
       "      <th>9</th>\n",
       "      <td>SIKORSKY 76</td>\n",
       "      <td>2</td>\n",
       "    </tr>\n",
       "    <tr>\n",
       "      <th>10</th>\n",
       "      <td>AGUSTA 109</td>\n",
       "      <td>2</td>\n",
       "    </tr>\n",
       "    <tr>\n",
       "      <th>11</th>\n",
       "      <td>AIRBUS 130</td>\n",
       "      <td>1</td>\n",
       "    </tr>\n",
       "  </tbody>\n",
       "</table>\n",
       "</div>"
      ],
      "text/plain": [
       "                    index  latimes_make_and_model\n",
       "0            ROBINSON R44                      38\n",
       "1                BELL 206                      30\n",
       "2              AIRBUS 350                      29\n",
       "3            ROBINSON R22                      20\n",
       "4              HUGHES 369                      13\n",
       "5                BELL 407                      13\n",
       "6   MCDONNELL DOUGLAS 369                       6\n",
       "7           SCHWEIZER 269                       5\n",
       "8              AIRBUS 135                       4\n",
       "9             SIKORSKY 76                       2\n",
       "10             AGUSTA 109                       2\n",
       "11             AIRBUS 130                       1"
      ]
     },
     "execution_count": 39,
     "metadata": {},
     "output_type": "execute_result"
    }
   ],
   "source": [
    "accident_list.latimes_make_and_model.value_counts().reset_index()"
   ]
  },
  {
   "cell_type": "markdown",
   "id": "4910f7c0-238e-4a5b-b2ca-c72d69602711",
   "metadata": {},
   "source": [
    "<div style=\"max-width: 640px;\">\n",
    "\n",
    "Why does `Series` behave differently than a dataframe? Why does `reset_index` have such a weird name?\n",
    "\n",
    "Like so much in computer programming, the answer is simply, “because the people who created the library said so.” It’s important to learn that all open-source programming tools are made by humans, and humans have their quirks. Over time you’ll see pandas has more than a few.\n",
    "\n",
    "As a beginner, you should just accept the oddities and keep moving. As you get more advanced, if there’s something about the system you think could be improved you should consider <a href=\"https://pandas.pydata.org/pandas-docs/stable/development/contributing.html\">contributing</a> to the Python code that operates the library.\n",
    "    \n",
    "Before we move on to the next chapter, here's a challenge. See if you can answer a few more questions a journalist might ask about our dataset. All four of the questions below can be answered using only tricks we've covered thus far. See if you can do it.\n",
    "    \n",
    "</div>"
   ]
  },
  {
   "cell_type": "markdown",
   "id": "235e937a-8104-4fc3-857c-79882379474d",
   "metadata": {},
   "source": [
    "1. What was the total number of fatalities?"
   ]
  },
  {
   "cell_type": "code",
   "execution_count": null,
   "id": "3afb7ab9-e321-4cbf-b3fe-c1e538422590",
   "metadata": {},
   "outputs": [],
   "source": []
  },
  {
   "cell_type": "markdown",
   "id": "eb76e010-a376-4b84-9127-4e879a3e253d",
   "metadata": {},
   "source": [
    "2. Which helicopter maker had the most accidents?"
   ]
  },
  {
   "cell_type": "code",
   "execution_count": null,
   "id": "01613b77-7990-460f-956a-7b28bf5a531a",
   "metadata": {},
   "outputs": [],
   "source": []
  },
  {
   "cell_type": "markdown",
   "id": "7e28dabb-6f12-4257-94bb-baf6540b16d3",
   "metadata": {},
   "source": [
    "3. What was the total number of helicopter accidents by year?"
   ]
  },
  {
   "cell_type": "code",
   "execution_count": null,
   "id": "814a5adb-4e8f-4399-bd48-b4afa6c15458",
   "metadata": {},
   "outputs": [],
   "source": []
  },
  {
   "cell_type": "markdown",
   "id": "de50c69d-4a4a-491a-9390-ddc128914254",
   "metadata": {},
   "source": [
    "4. What state had the most helicopter accidents?"
   ]
  },
  {
   "cell_type": "code",
   "execution_count": null,
   "id": "9ff63bef-f240-454e-8a5d-18fe4f079553",
   "metadata": {},
   "outputs": [],
   "source": []
  },
  {
   "cell_type": "markdown",
   "id": "6bf77f2d-b2c2-4355-aa2c-80fffc10f693",
   "metadata": {
    "tags": []
   },
   "source": [
    "## Filtering down the dataset"
   ]
  },
  {
   "cell_type": "markdown",
   "id": "bd7530b6-c16c-44b5-85b1-f7689f797204",
   "metadata": {},
   "source": [
    "<div style=\"max-width: 640px;\">\n",
    "\n",
    "The most common way to filter a DataFrame is to pass an expression as an “index” that can be used to decide which records should be kept and which discarded. You write the expression by combining a column on your DataFrame with an <a href=\"https://en.wikipedia.org/wiki/Operator_(computer_programming)\">“operator”</a> like == or > or < and a value to compare against each row.\n",
    "\n",
    "<div class=\"alert alert-block alert-warning\">\n",
    "    <p>If you are familiar with writing <a href=\"https://en.wikipedia.org/wiki/SQL\">SQL</a> to manipulate databases, pandas’ filtering system is somewhat similar to a WHERE query. The <a href=\"https://pandas.pydata.org/pandas-docs/stable/getting_started/comparison/comparison_with_sql.html#where\">official pandas documentation</a> offers direct translations between the two.</p>\n",
    "</div>\n",
    "    \n",
    "Let's try filtering against the `state` field. Save one of the values listed above into a variable. This will allow us to reuse it later.\n",
    "\n",
    "</div>"
   ]
  },
  {
   "cell_type": "code",
   "execution_count": 41,
   "id": "8124142e-b9da-448d-8b42-35115c0c5a26",
   "metadata": {},
   "outputs": [],
   "source": [
    "my_state = \"IA\""
   ]
  },
  {
   "cell_type": "markdown",
   "id": "b09cb284-7783-446c-ab58-1c5b83ad2e13",
   "metadata": {},
   "source": [
    "<div style=\"max-width: 640px;\">\n",
    "\n",
    "In the next cell we will ask pandas to narrow down our list of sites to just those that list the location we’re interested in. We will create a filter expression and place it between two flat brackets following the DataFrame we wish to filter.\n",
    " \n",
    "</div>"
   ]
  },
  {
   "cell_type": "code",
   "execution_count": 43,
   "id": "a3e3cf0f-fe6f-4ffe-a273-f8853a8db957",
   "metadata": {},
   "outputs": [
    {
     "data": {
      "text/html": [
       "<div>\n",
       "<style scoped>\n",
       "    .dataframe tbody tr th:only-of-type {\n",
       "        vertical-align: middle;\n",
       "    }\n",
       "\n",
       "    .dataframe tbody tr th {\n",
       "        vertical-align: top;\n",
       "    }\n",
       "\n",
       "    .dataframe thead th {\n",
       "        text-align: right;\n",
       "    }\n",
       "</style>\n",
       "<table border=\"1\" class=\"dataframe\">\n",
       "  <thead>\n",
       "    <tr style=\"text-align: right;\">\n",
       "      <th></th>\n",
       "      <th>event_id</th>\n",
       "      <th>aircraft_id</th>\n",
       "      <th>ntsb_make</th>\n",
       "      <th>ntsb_model</th>\n",
       "      <th>ntsb_number</th>\n",
       "      <th>year</th>\n",
       "      <th>date</th>\n",
       "      <th>city</th>\n",
       "      <th>state</th>\n",
       "      <th>country</th>\n",
       "      <th>total_fatalities</th>\n",
       "      <th>in_usa</th>\n",
       "      <th>pilot_total</th>\n",
       "      <th>latimes_make</th>\n",
       "      <th>latimes_model</th>\n",
       "      <th>count</th>\n",
       "      <th>latimes_make_and_model</th>\n",
       "    </tr>\n",
       "  </thead>\n",
       "  <tbody>\n",
       "    <tr>\n",
       "      <th>66</th>\n",
       "      <td>20130102X35708</td>\n",
       "      <td>1</td>\n",
       "      <td>BELL HELICOPTER</td>\n",
       "      <td>407</td>\n",
       "      <td>CEN13FA122</td>\n",
       "      <td>2013</td>\n",
       "      <td>01/02/13 00:00:00</td>\n",
       "      <td>CLEAR LAKE</td>\n",
       "      <td>IA</td>\n",
       "      <td>USA</td>\n",
       "      <td>3.0</td>\n",
       "      <td>True</td>\n",
       "      <td>1.0</td>\n",
       "      <td>BELL</td>\n",
       "      <td>407</td>\n",
       "      <td>3.0</td>\n",
       "      <td>BELL 407</td>\n",
       "    </tr>\n",
       "    <tr>\n",
       "      <th>117</th>\n",
       "      <td>20060705X00868</td>\n",
       "      <td>1</td>\n",
       "      <td>BELL</td>\n",
       "      <td>206B</td>\n",
       "      <td>CHI06FA173</td>\n",
       "      <td>2006</td>\n",
       "      <td>06/30/06 00:00:00</td>\n",
       "      <td>WALFORD</td>\n",
       "      <td>IA</td>\n",
       "      <td>USA</td>\n",
       "      <td>1.0</td>\n",
       "      <td>True</td>\n",
       "      <td>1.0</td>\n",
       "      <td>BELL</td>\n",
       "      <td>206</td>\n",
       "      <td>112.0</td>\n",
       "      <td>BELL 206</td>\n",
       "    </tr>\n",
       "    <tr>\n",
       "      <th>144</th>\n",
       "      <td>20140908X10448</td>\n",
       "      <td>1</td>\n",
       "      <td>ROBINSON HELICOPTER COMPANY</td>\n",
       "      <td>R44 II</td>\n",
       "      <td>CEN14LA487</td>\n",
       "      <td>2014</td>\n",
       "      <td>09/06/14 00:00:00</td>\n",
       "      <td>MACEDONIA</td>\n",
       "      <td>IA</td>\n",
       "      <td>USA</td>\n",
       "      <td>1.0</td>\n",
       "      <td>True</td>\n",
       "      <td>1.0</td>\n",
       "      <td>ROBINSON</td>\n",
       "      <td>R44</td>\n",
       "      <td>22.0</td>\n",
       "      <td>ROBINSON R44</td>\n",
       "    </tr>\n",
       "  </tbody>\n",
       "</table>\n",
       "</div>"
      ],
      "text/plain": [
       "           event_id  aircraft_id                    ntsb_make ntsb_model  \\\n",
       "66   20130102X35708            1              BELL HELICOPTER        407   \n",
       "117  20060705X00868            1                         BELL       206B   \n",
       "144  20140908X10448            1  ROBINSON HELICOPTER COMPANY     R44 II   \n",
       "\n",
       "    ntsb_number  year               date        city state country  \\\n",
       "66   CEN13FA122  2013  01/02/13 00:00:00  CLEAR LAKE    IA     USA   \n",
       "117  CHI06FA173  2006  06/30/06 00:00:00     WALFORD    IA     USA   \n",
       "144  CEN14LA487  2014  09/06/14 00:00:00   MACEDONIA    IA     USA   \n",
       "\n",
       "     total_fatalities  in_usa  pilot_total latimes_make latimes_model  count  \\\n",
       "66                3.0    True          1.0         BELL           407    3.0   \n",
       "117               1.0    True          1.0         BELL           206  112.0   \n",
       "144               1.0    True          1.0     ROBINSON           R44   22.0   \n",
       "\n",
       "    latimes_make_and_model  \n",
       "66                BELL 407  \n",
       "117               BELL 206  \n",
       "144           ROBINSON R44  "
      ]
     },
     "execution_count": 43,
     "metadata": {},
     "output_type": "execute_result"
    }
   ],
   "source": [
    "accident_list[accident_list.state == my_state]"
   ]
  },
  {
   "cell_type": "markdown",
   "id": "7ee09fc6-4a83-441c-962c-295d2b73fb48",
   "metadata": {},
   "source": [
    "<div style=\"max-width: 640px;\">\n",
    "\n",
    "Now we should save the results of that filter into a new variable separate from the full list we imported from the CSV file. Since it includes only the sites for the location we’re interested in let’s call it `my_accidents`.\n",
    "\n",
    "</div>"
   ]
  },
  {
   "cell_type": "code",
   "execution_count": 46,
   "id": "86104389-e9ab-499f-b6da-246f1985133e",
   "metadata": {},
   "outputs": [],
   "source": [
    "my_accidents = accident_list[accident_list.state == my_state]"
   ]
  },
  {
   "cell_type": "markdown",
   "id": "3484a0bd-eacc-43c0-ae84-a7cb67672abe",
   "metadata": {},
   "source": [
    "<div style=\"max-width: 640px;\">\n",
    "\n",
    "To check our work and find out how many committees are left after the filter, let’s run the DataFrame inspection commands we learned earlier.\n",
    "\n",
    "First `head`.\n",
    "\n",
    "</div>"
   ]
  },
  {
   "cell_type": "code",
   "execution_count": 47,
   "id": "643adbc8-8d71-4f20-9da5-dadb54a1c254",
   "metadata": {},
   "outputs": [
    {
     "data": {
      "text/html": [
       "<div>\n",
       "<style scoped>\n",
       "    .dataframe tbody tr th:only-of-type {\n",
       "        vertical-align: middle;\n",
       "    }\n",
       "\n",
       "    .dataframe tbody tr th {\n",
       "        vertical-align: top;\n",
       "    }\n",
       "\n",
       "    .dataframe thead th {\n",
       "        text-align: right;\n",
       "    }\n",
       "</style>\n",
       "<table border=\"1\" class=\"dataframe\">\n",
       "  <thead>\n",
       "    <tr style=\"text-align: right;\">\n",
       "      <th></th>\n",
       "      <th>event_id</th>\n",
       "      <th>aircraft_id</th>\n",
       "      <th>ntsb_make</th>\n",
       "      <th>ntsb_model</th>\n",
       "      <th>ntsb_number</th>\n",
       "      <th>year</th>\n",
       "      <th>date</th>\n",
       "      <th>city</th>\n",
       "      <th>state</th>\n",
       "      <th>country</th>\n",
       "      <th>total_fatalities</th>\n",
       "      <th>in_usa</th>\n",
       "      <th>pilot_total</th>\n",
       "      <th>latimes_make</th>\n",
       "      <th>latimes_model</th>\n",
       "      <th>count</th>\n",
       "      <th>latimes_make_and_model</th>\n",
       "    </tr>\n",
       "  </thead>\n",
       "  <tbody>\n",
       "    <tr>\n",
       "      <th>66</th>\n",
       "      <td>20130102X35708</td>\n",
       "      <td>1</td>\n",
       "      <td>BELL HELICOPTER</td>\n",
       "      <td>407</td>\n",
       "      <td>CEN13FA122</td>\n",
       "      <td>2013</td>\n",
       "      <td>01/02/13 00:00:00</td>\n",
       "      <td>CLEAR LAKE</td>\n",
       "      <td>IA</td>\n",
       "      <td>USA</td>\n",
       "      <td>3.0</td>\n",
       "      <td>True</td>\n",
       "      <td>1.0</td>\n",
       "      <td>BELL</td>\n",
       "      <td>407</td>\n",
       "      <td>3.0</td>\n",
       "      <td>BELL 407</td>\n",
       "    </tr>\n",
       "    <tr>\n",
       "      <th>117</th>\n",
       "      <td>20060705X00868</td>\n",
       "      <td>1</td>\n",
       "      <td>BELL</td>\n",
       "      <td>206B</td>\n",
       "      <td>CHI06FA173</td>\n",
       "      <td>2006</td>\n",
       "      <td>06/30/06 00:00:00</td>\n",
       "      <td>WALFORD</td>\n",
       "      <td>IA</td>\n",
       "      <td>USA</td>\n",
       "      <td>1.0</td>\n",
       "      <td>True</td>\n",
       "      <td>1.0</td>\n",
       "      <td>BELL</td>\n",
       "      <td>206</td>\n",
       "      <td>112.0</td>\n",
       "      <td>BELL 206</td>\n",
       "    </tr>\n",
       "    <tr>\n",
       "      <th>144</th>\n",
       "      <td>20140908X10448</td>\n",
       "      <td>1</td>\n",
       "      <td>ROBINSON HELICOPTER COMPANY</td>\n",
       "      <td>R44 II</td>\n",
       "      <td>CEN14LA487</td>\n",
       "      <td>2014</td>\n",
       "      <td>09/06/14 00:00:00</td>\n",
       "      <td>MACEDONIA</td>\n",
       "      <td>IA</td>\n",
       "      <td>USA</td>\n",
       "      <td>1.0</td>\n",
       "      <td>True</td>\n",
       "      <td>1.0</td>\n",
       "      <td>ROBINSON</td>\n",
       "      <td>R44</td>\n",
       "      <td>22.0</td>\n",
       "      <td>ROBINSON R44</td>\n",
       "    </tr>\n",
       "  </tbody>\n",
       "</table>\n",
       "</div>"
      ],
      "text/plain": [
       "           event_id  aircraft_id                    ntsb_make ntsb_model  \\\n",
       "66   20130102X35708            1              BELL HELICOPTER        407   \n",
       "117  20060705X00868            1                         BELL       206B   \n",
       "144  20140908X10448            1  ROBINSON HELICOPTER COMPANY     R44 II   \n",
       "\n",
       "    ntsb_number  year               date        city state country  \\\n",
       "66   CEN13FA122  2013  01/02/13 00:00:00  CLEAR LAKE    IA     USA   \n",
       "117  CHI06FA173  2006  06/30/06 00:00:00     WALFORD    IA     USA   \n",
       "144  CEN14LA487  2014  09/06/14 00:00:00   MACEDONIA    IA     USA   \n",
       "\n",
       "     total_fatalities  in_usa  pilot_total latimes_make latimes_model  count  \\\n",
       "66                3.0    True          1.0         BELL           407    3.0   \n",
       "117               1.0    True          1.0         BELL           206  112.0   \n",
       "144               1.0    True          1.0     ROBINSON           R44   22.0   \n",
       "\n",
       "    latimes_make_and_model  \n",
       "66                BELL 407  \n",
       "117               BELL 206  \n",
       "144           ROBINSON R44  "
      ]
     },
     "execution_count": 47,
     "metadata": {},
     "output_type": "execute_result"
    }
   ],
   "source": [
    "my_accidents.head()"
   ]
  },
  {
   "cell_type": "markdown",
   "id": "c480a2a4-6aa6-4b10-99ab-4e150fe20937",
   "metadata": {},
   "source": [
    "Then `info`."
   ]
  },
  {
   "cell_type": "code",
   "execution_count": 48,
   "id": "8953e98e-0efe-49ac-bf46-0f84118524ff",
   "metadata": {},
   "outputs": [
    {
     "name": "stdout",
     "output_type": "stream",
     "text": [
      "<class 'pandas.core.frame.DataFrame'>\n",
      "Int64Index: 3 entries, 66 to 144\n",
      "Data columns (total 17 columns):\n",
      " #   Column                  Non-Null Count  Dtype  \n",
      "---  ------                  --------------  -----  \n",
      " 0   event_id                3 non-null      object \n",
      " 1   aircraft_id             3 non-null      int64  \n",
      " 2   ntsb_make               3 non-null      object \n",
      " 3   ntsb_model              3 non-null      object \n",
      " 4   ntsb_number             3 non-null      object \n",
      " 5   year                    3 non-null      int64  \n",
      " 6   date                    3 non-null      object \n",
      " 7   city                    3 non-null      object \n",
      " 8   state                   3 non-null      object \n",
      " 9   country                 3 non-null      object \n",
      " 10  total_fatalities        3 non-null      float64\n",
      " 11  in_usa                  3 non-null      bool   \n",
      " 12  pilot_total             3 non-null      float64\n",
      " 13  latimes_make            3 non-null      object \n",
      " 14  latimes_model           3 non-null      object \n",
      " 15  count                   3 non-null      float64\n",
      " 16  latimes_make_and_model  3 non-null      object \n",
      "dtypes: bool(1), float64(3), int64(2), object(11)\n",
      "memory usage: 411.0+ bytes\n"
     ]
    }
   ],
   "source": [
    "my_accidents.info()"
   ]
  },
  {
   "cell_type": "markdown",
   "id": "0a257a0d-fd23-4907-b320-43e8c8b65457",
   "metadata": {
    "tags": []
   },
   "source": [
    "## Pivoting with `groupby`"
   ]
  },
  {
   "cell_type": "markdown",
   "id": "aa783e17-3f62-4972-aea8-5aa94344fb81",
   "metadata": {},
   "source": [
    "<div style=\"max-width: 640px;\">\n",
    "\n",
    "The [`groupby`](https://pandas.pydata.org/pandas-docs/stable/reference/api/pandas.DataFrame.groupby.html) method allows you to group a DataFrame by a column and then calculate a sum, or any other statistic, for each unique value. This functions much like the <a href=\"https://en.wikipedia.org/wiki/Pivot_table\">\"pivot table\"</a> feature found in most spreadsheets.\n",
    "\n",
    "Let's use it to total up the accidents by make and model. You start by passing the field you want to group on to the function.\n",
    "\n",
    "</div>"
   ]
  },
  {
   "cell_type": "code",
   "execution_count": 55,
   "id": "8d2911ad-52d9-4fca-9131-7bf1d472422e",
   "metadata": {},
   "outputs": [
    {
     "data": {
      "text/plain": [
       "<pandas.core.groupby.generic.DataFrameGroupBy object at 0x7f35a317deb0>"
      ]
     },
     "execution_count": 55,
     "metadata": {},
     "output_type": "execute_result"
    }
   ],
   "source": [
    "accident_list.groupby(\"latimes_make_and_model\")"
   ]
  },
  {
   "cell_type": "markdown",
   "id": "f7a4e89d-05ef-442f-a898-90ba4c107ba7",
   "metadata": {},
   "source": [
    "<div style=\"max-width: 640px;\">\n",
    "\n",
    "A nice start but you’ll notice you don’t get much back. The data’s been grouped, but we haven’t chosen what to do with it yet. If we wanted the total by model, we would use the `size` method.\n",
    "\n",
    "</div>"
   ]
  },
  {
   "cell_type": "code",
   "execution_count": 57,
   "id": "eb3d9e7a-9b4b-4e78-a813-c6eb7a941fe3",
   "metadata": {},
   "outputs": [
    {
     "data": {
      "text/plain": [
       "latimes_make_and_model\n",
       "AGUSTA 109                2\n",
       "AIRBUS 130                1\n",
       "AIRBUS 135                4\n",
       "AIRBUS 350               29\n",
       "BELL 206                 30\n",
       "BELL 407                 13\n",
       "HUGHES 369               13\n",
       "MCDONNELL DOUGLAS 369     6\n",
       "ROBINSON R22             20\n",
       "ROBINSON R44             38\n",
       "SCHWEIZER 269             5\n",
       "SIKORSKY 76               2\n",
       "dtype: int64"
      ]
     },
     "execution_count": 57,
     "metadata": {},
     "output_type": "execute_result"
    }
   ],
   "source": [
    "accident_list.groupby(\"latimes_make_and_model\").size()"
   ]
  },
  {
   "cell_type": "markdown",
   "id": "7fb595ea-1a2f-4074-8a54-0675396c3737",
   "metadata": {},
   "source": [
    "<div style=\"max-width: 640px;\">\n",
    "The result is much like `value_counts`, but we're allowed run to all kinds of statistical operations on the group, like `sum`, `mean` and `std`. For instance, we could sum the total number of fatalities for each maker by string that field on the end followed by the statistical method.\n",
    "</div>"
   ]
  },
  {
   "cell_type": "code",
   "execution_count": 58,
   "id": "8bc9b770-a4f2-4134-843d-8d667ee08fa1",
   "metadata": {},
   "outputs": [
    {
     "data": {
      "text/plain": [
       "latimes_make_and_model\n",
       "AGUSTA 109                5.0\n",
       "AIRBUS 130                1.0\n",
       "AIRBUS 135               11.0\n",
       "AIRBUS 350               81.0\n",
       "BELL 206                 61.0\n",
       "BELL 407                 35.0\n",
       "HUGHES 369               19.0\n",
       "MCDONNELL DOUGLAS 369     7.0\n",
       "ROBINSON R22             27.0\n",
       "ROBINSON R44             71.0\n",
       "SCHWEIZER 269             7.0\n",
       "SIKORSKY 76              11.0\n",
       "Name: total_fatalities, dtype: float64"
      ]
     },
     "execution_count": 58,
     "metadata": {},
     "output_type": "execute_result"
    }
   ],
   "source": [
    "accident_list.groupby(\"latimes_make_and_model\").total_fatalities.sum()"
   ]
  },
  {
   "cell_type": "markdown",
   "id": "7dd31d6e-d6c5-41f0-adf9-3f3541a0432d",
   "metadata": {},
   "source": [
    "<div style=\"max-width: 640px;\">\n",
    "Again our data has come back as an ugly Series. To reformat it as a pretty DataFrame use the `reset_index` method again.\n",
    "</div>"
   ]
  },
  {
   "cell_type": "code",
   "execution_count": 59,
   "id": "f39e35b3-b67e-4578-aaca-a006a01fd9ed",
   "metadata": {},
   "outputs": [
    {
     "data": {
      "text/html": [
       "<div>\n",
       "<style scoped>\n",
       "    .dataframe tbody tr th:only-of-type {\n",
       "        vertical-align: middle;\n",
       "    }\n",
       "\n",
       "    .dataframe tbody tr th {\n",
       "        vertical-align: top;\n",
       "    }\n",
       "\n",
       "    .dataframe thead th {\n",
       "        text-align: right;\n",
       "    }\n",
       "</style>\n",
       "<table border=\"1\" class=\"dataframe\">\n",
       "  <thead>\n",
       "    <tr style=\"text-align: right;\">\n",
       "      <th></th>\n",
       "      <th>latimes_make_and_model</th>\n",
       "      <th>0</th>\n",
       "    </tr>\n",
       "  </thead>\n",
       "  <tbody>\n",
       "    <tr>\n",
       "      <th>0</th>\n",
       "      <td>AGUSTA 109</td>\n",
       "      <td>2</td>\n",
       "    </tr>\n",
       "    <tr>\n",
       "      <th>1</th>\n",
       "      <td>AIRBUS 130</td>\n",
       "      <td>1</td>\n",
       "    </tr>\n",
       "    <tr>\n",
       "      <th>2</th>\n",
       "      <td>AIRBUS 135</td>\n",
       "      <td>4</td>\n",
       "    </tr>\n",
       "    <tr>\n",
       "      <th>3</th>\n",
       "      <td>AIRBUS 350</td>\n",
       "      <td>29</td>\n",
       "    </tr>\n",
       "    <tr>\n",
       "      <th>4</th>\n",
       "      <td>BELL 206</td>\n",
       "      <td>30</td>\n",
       "    </tr>\n",
       "    <tr>\n",
       "      <th>5</th>\n",
       "      <td>BELL 407</td>\n",
       "      <td>13</td>\n",
       "    </tr>\n",
       "    <tr>\n",
       "      <th>6</th>\n",
       "      <td>HUGHES 369</td>\n",
       "      <td>13</td>\n",
       "    </tr>\n",
       "    <tr>\n",
       "      <th>7</th>\n",
       "      <td>MCDONNELL DOUGLAS 369</td>\n",
       "      <td>6</td>\n",
       "    </tr>\n",
       "    <tr>\n",
       "      <th>8</th>\n",
       "      <td>ROBINSON R22</td>\n",
       "      <td>20</td>\n",
       "    </tr>\n",
       "    <tr>\n",
       "      <th>9</th>\n",
       "      <td>ROBINSON R44</td>\n",
       "      <td>38</td>\n",
       "    </tr>\n",
       "    <tr>\n",
       "      <th>10</th>\n",
       "      <td>SCHWEIZER 269</td>\n",
       "      <td>5</td>\n",
       "    </tr>\n",
       "    <tr>\n",
       "      <th>11</th>\n",
       "      <td>SIKORSKY 76</td>\n",
       "      <td>2</td>\n",
       "    </tr>\n",
       "  </tbody>\n",
       "</table>\n",
       "</div>"
      ],
      "text/plain": [
       "   latimes_make_and_model   0\n",
       "0              AGUSTA 109   2\n",
       "1              AIRBUS 130   1\n",
       "2              AIRBUS 135   4\n",
       "3              AIRBUS 350  29\n",
       "4                BELL 206  30\n",
       "5                BELL 407  13\n",
       "6              HUGHES 369  13\n",
       "7   MCDONNELL DOUGLAS 369   6\n",
       "8            ROBINSON R22  20\n",
       "9            ROBINSON R44  38\n",
       "10          SCHWEIZER 269   5\n",
       "11            SIKORSKY 76   2"
      ]
     },
     "execution_count": 59,
     "metadata": {},
     "output_type": "execute_result"
    }
   ],
   "source": [
    "accident_list.groupby(\"latimes_make_and_model\").size().reset_index()"
   ]
  },
  {
   "cell_type": "markdown",
   "id": "fa8590c7-e4d3-4594-93ed-92f2e358eeed",
   "metadata": {},
   "source": [
    "Now save that as a variable."
   ]
  },
  {
   "cell_type": "code",
   "execution_count": 60,
   "id": "d464c62f-ec7b-45af-b4fa-01abc85f4bba",
   "metadata": {},
   "outputs": [],
   "source": [
    "accident_counts = accident_list.groupby(\"latimes_make_and_model\").size().reset_index()"
   ]
  },
  {
   "cell_type": "markdown",
   "id": "8463ea92-ce67-47bb-b236-1101db8ff470",
   "metadata": {},
   "source": [
    "<div style=\"max-width: 640px;\">\n",
    "\n",
    "You can clean up the `0` column name assigned by pandas with the `rename` method. The `inplace` option, found on many pandas methods, will save the change to your variable automatically.\n",
    "\n",
    "</div>"
   ]
  },
  {
   "cell_type": "code",
   "execution_count": 62,
   "id": "36c83acc-5313-456a-ac68-30da7d2a257b",
   "metadata": {},
   "outputs": [],
   "source": [
    "accident_counts.rename(columns={0: \"accidents\"}, inplace=True)"
   ]
  },
  {
   "cell_type": "markdown",
   "id": "07dd38d1-b36d-4d36-851f-db14ab6aa3dd",
   "metadata": {},
   "source": [
    "The result is a DataFrame with the accident totals we'll want to merge with the FAA survey data to calculate rates."
   ]
  },
  {
   "cell_type": "code",
   "execution_count": 64,
   "id": "e96fcea9-51ea-4f87-938a-1ac8b40e461b",
   "metadata": {},
   "outputs": [
    {
     "data": {
      "text/html": [
       "<div>\n",
       "<style scoped>\n",
       "    .dataframe tbody tr th:only-of-type {\n",
       "        vertical-align: middle;\n",
       "    }\n",
       "\n",
       "    .dataframe tbody tr th {\n",
       "        vertical-align: top;\n",
       "    }\n",
       "\n",
       "    .dataframe thead th {\n",
       "        text-align: right;\n",
       "    }\n",
       "</style>\n",
       "<table border=\"1\" class=\"dataframe\">\n",
       "  <thead>\n",
       "    <tr style=\"text-align: right;\">\n",
       "      <th></th>\n",
       "      <th>latimes_make_and_model</th>\n",
       "      <th>accidents</th>\n",
       "    </tr>\n",
       "  </thead>\n",
       "  <tbody>\n",
       "    <tr>\n",
       "      <th>0</th>\n",
       "      <td>AGUSTA 109</td>\n",
       "      <td>2</td>\n",
       "    </tr>\n",
       "    <tr>\n",
       "      <th>1</th>\n",
       "      <td>AIRBUS 130</td>\n",
       "      <td>1</td>\n",
       "    </tr>\n",
       "    <tr>\n",
       "      <th>2</th>\n",
       "      <td>AIRBUS 135</td>\n",
       "      <td>4</td>\n",
       "    </tr>\n",
       "    <tr>\n",
       "      <th>3</th>\n",
       "      <td>AIRBUS 350</td>\n",
       "      <td>29</td>\n",
       "    </tr>\n",
       "    <tr>\n",
       "      <th>4</th>\n",
       "      <td>BELL 206</td>\n",
       "      <td>30</td>\n",
       "    </tr>\n",
       "  </tbody>\n",
       "</table>\n",
       "</div>"
      ],
      "text/plain": [
       "  latimes_make_and_model  accidents\n",
       "0             AGUSTA 109          2\n",
       "1             AIRBUS 130          1\n",
       "2             AIRBUS 135          4\n",
       "3             AIRBUS 350         29\n",
       "4               BELL 206         30"
      ]
     },
     "execution_count": 64,
     "metadata": {},
     "output_type": "execute_result"
    }
   ],
   "source": [
    "accident_counts.head()"
   ]
  },
  {
   "cell_type": "markdown",
   "id": "6bbe468b-5d97-4b59-aede-03cf742c90f4",
   "metadata": {
    "tags": []
   },
   "source": [
    "## Merging two dataframes together\n",
    "\n",
    "<div style=\"max-width: 640px;\">\n",
    "\n",
    "Next we'll cover how to merge two DataFrames together into a combined table. Before we can do that, we need to read in a second file. We'll pull `faa-survey.csv`, which contains annual estimates of how many hours each type of helicopter was in the air. It was acquired via a Freedom of Information Act request with the FAA.\n",
    "\n",
    "We can rip it in the same was the NTSB accident list, with `read_csv`.\n",
    "    \n",
    "</div>"
   ]
  },
  {
   "cell_type": "code",
   "execution_count": 78,
   "id": "383a663a-b266-4b3c-867a-1b7e28ecd862",
   "metadata": {},
   "outputs": [],
   "source": [
    "survey = pd.read_csv(\"faa-survey.csv\")"
   ]
  },
  {
   "cell_type": "markdown",
   "id": "6729aad0-6b1c-43a8-a6e4-426e6b29a595",
   "metadata": {},
   "source": [
    "<div style=\"max-width: 640px;\">\n",
    "\n",
    "When joining two tables together, the first step is to look carefully at the columns in each table to find a common column that can be joined. We can do that with the `info` command we learned earlier.\n",
    "\n",
    "</div>"
   ]
  },
  {
   "cell_type": "code",
   "execution_count": 80,
   "id": "5ea295f3-3f39-466b-af15-445fe8772c52",
   "metadata": {},
   "outputs": [
    {
     "name": "stdout",
     "output_type": "stream",
     "text": [
      "<class 'pandas.core.frame.DataFrame'>\n",
      "RangeIndex: 12 entries, 0 to 11\n",
      "Data columns (total 2 columns):\n",
      " #   Column                  Non-Null Count  Dtype \n",
      "---  ------                  --------------  ----- \n",
      " 0   latimes_make_and_model  12 non-null     object\n",
      " 1   accidents               12 non-null     int64 \n",
      "dtypes: int64(1), object(1)\n",
      "memory usage: 320.0+ bytes\n"
     ]
    }
   ],
   "source": [
    "accident_counts.info()"
   ]
  },
  {
   "cell_type": "code",
   "execution_count": 81,
   "id": "0917e775-d606-486d-bbb3-5b8a0d371a77",
   "metadata": {},
   "outputs": [
    {
     "name": "stdout",
     "output_type": "stream",
     "text": [
      "<class 'pandas.core.frame.DataFrame'>\n",
      "RangeIndex: 12 entries, 0 to 11\n",
      "Data columns (total 2 columns):\n",
      " #   Column                  Non-Null Count  Dtype \n",
      "---  ------                  --------------  ----- \n",
      " 0   latimes_make_and_model  12 non-null     object\n",
      " 1   total_hours             12 non-null     int64 \n",
      "dtypes: int64(1), object(1)\n",
      "memory usage: 320.0+ bytes\n"
     ]
    }
   ],
   "source": [
    "survey.info()"
   ]
  },
  {
   "cell_type": "markdown",
   "id": "2c00fce9-7c29-475f-8800-5bf81efda68d",
   "metadata": {},
   "source": [
    "<div style=\"max-width: 640px;\">\n",
    "\n",
    "You can see that each table contains the `latimes_make_and_model` column. We can therefore join the two files using the pandas <a href=\"https://pandas.pydata.org/pandas-docs/stable/reference/api/pandas.merge.html\">`merge`</a> method.\n",
    "\n",
    "<div class=\"alert alert-block alert-warning\"><p>If you are familar with traditional databases, you may recognize that the merge method in pandas is similar to SQL’s JOIN statement. If you dig into <a href=\"https://pandas.pydata.org/pandas-docs/stable/reference/api/pandas.merge.html\">merge’s documentation</a> you will see it has many of the same options.</p></div>\n",
    "\n",
    "Merging two DataFrames is as simple as passing both to pandas built-in `merge` method and specifying which field we’d like to use to connect them together. We will save the result into another new variable, which I'm going to call `merged_list`.\n",
    "    \n",
    "</div>"
   ]
  },
  {
   "cell_type": "code",
   "execution_count": 82,
   "id": "72a861a4-7241-4448-81ca-b928286e3d7c",
   "metadata": {},
   "outputs": [],
   "source": [
    "merged_list = pd.merge(accident_counts, survey, on=\"latimes_make_and_model\")"
   ]
  },
  {
   "cell_type": "markdown",
   "id": "82814158-efcf-47ca-ac63-96a5f96ff50c",
   "metadata": {},
   "source": [
    "That new DataFrame can be inspected like any other."
   ]
  },
  {
   "cell_type": "code",
   "execution_count": 83,
   "id": "b35fedea-3788-413f-85c1-c5fcc1430e03",
   "metadata": {},
   "outputs": [
    {
     "data": {
      "text/html": [
       "<div>\n",
       "<style scoped>\n",
       "    .dataframe tbody tr th:only-of-type {\n",
       "        vertical-align: middle;\n",
       "    }\n",
       "\n",
       "    .dataframe tbody tr th {\n",
       "        vertical-align: top;\n",
       "    }\n",
       "\n",
       "    .dataframe thead th {\n",
       "        text-align: right;\n",
       "    }\n",
       "</style>\n",
       "<table border=\"1\" class=\"dataframe\">\n",
       "  <thead>\n",
       "    <tr style=\"text-align: right;\">\n",
       "      <th></th>\n",
       "      <th>latimes_make_and_model</th>\n",
       "      <th>accidents</th>\n",
       "      <th>total_hours</th>\n",
       "    </tr>\n",
       "  </thead>\n",
       "  <tbody>\n",
       "    <tr>\n",
       "      <th>0</th>\n",
       "      <td>AGUSTA 109</td>\n",
       "      <td>2</td>\n",
       "      <td>362172</td>\n",
       "    </tr>\n",
       "    <tr>\n",
       "      <th>1</th>\n",
       "      <td>AIRBUS 130</td>\n",
       "      <td>1</td>\n",
       "      <td>1053786</td>\n",
       "    </tr>\n",
       "    <tr>\n",
       "      <th>2</th>\n",
       "      <td>AIRBUS 135</td>\n",
       "      <td>4</td>\n",
       "      <td>884596</td>\n",
       "    </tr>\n",
       "    <tr>\n",
       "      <th>3</th>\n",
       "      <td>AIRBUS 350</td>\n",
       "      <td>29</td>\n",
       "      <td>3883490</td>\n",
       "    </tr>\n",
       "    <tr>\n",
       "      <th>4</th>\n",
       "      <td>BELL 206</td>\n",
       "      <td>30</td>\n",
       "      <td>5501308</td>\n",
       "    </tr>\n",
       "  </tbody>\n",
       "</table>\n",
       "</div>"
      ],
      "text/plain": [
       "  latimes_make_and_model  accidents  total_hours\n",
       "0             AGUSTA 109          2       362172\n",
       "1             AIRBUS 130          1      1053786\n",
       "2             AIRBUS 135          4       884596\n",
       "3             AIRBUS 350         29      3883490\n",
       "4               BELL 206         30      5501308"
      ]
     },
     "execution_count": 83,
     "metadata": {},
     "output_type": "execute_result"
    }
   ],
   "source": [
    "merged_list.head()"
   ]
  },
  {
   "cell_type": "markdown",
   "id": "d5c12f2c-c888-40ee-9316-afd3b0b5db1b",
   "metadata": {},
   "source": [
    "By looking at the columns you can check how many rows survived the merge."
   ]
  },
  {
   "cell_type": "code",
   "execution_count": 84,
   "id": "ac1a378c-1978-4e2f-bd18-90ce8faafa69",
   "metadata": {},
   "outputs": [
    {
     "name": "stdout",
     "output_type": "stream",
     "text": [
      "<class 'pandas.core.frame.DataFrame'>\n",
      "Int64Index: 12 entries, 0 to 11\n",
      "Data columns (total 3 columns):\n",
      " #   Column                  Non-Null Count  Dtype \n",
      "---  ------                  --------------  ----- \n",
      " 0   latimes_make_and_model  12 non-null     object\n",
      " 1   accidents               12 non-null     int64 \n",
      " 2   total_hours             12 non-null     int64 \n",
      "dtypes: int64(2), object(1)\n",
      "memory usage: 384.0+ bytes\n"
     ]
    }
   ],
   "source": [
    "merged_list.info()"
   ]
  },
  {
   "cell_type": "markdown",
   "id": "8b5c6b93-d97b-4230-93db-808f23e50f56",
   "metadata": {},
   "source": [
    "<div style=\"max-width: 640px;\">\n",
    "\n",
    "You can also see that the dataframe now contains the same number of records as `accident_totals`. That's good. It means that every record in each dataframe found a match in the other. It's good idea to do a check like this every time you merge.\n",
    "\n",
    "</div>"
   ]
  },
  {
   "cell_type": "markdown",
   "id": "bbbf5ff6-64cc-41ee-9374-ddcb76fe3e94",
   "metadata": {
    "tags": []
   },
   "source": [
    "## Computing new columns\n",
    "\n",
    "<div style=\"max-width:640px;\">\n",
    "\n",
    "Here's how you can create a new column based on the data in other columns, a process sometimes known as “computing.” In this case, computing can help us calculate a rate by dividing the accidents by flight hours.\n",
    "\n",
    "In many cases, it's no more complicated than combining two series with a mathematical operator.\n",
    "    \n",
    "</div>"
   ]
  },
  {
   "cell_type": "code",
   "execution_count": 92,
   "id": "690181d2-2f4d-4f1b-92db-5ecacd63c3c7",
   "metadata": {},
   "outputs": [
    {
     "data": {
      "text/plain": [
       "0     5.522238e-06\n",
       "1     9.489593e-07\n",
       "2     4.521838e-06\n",
       "3     7.467510e-06\n",
       "4     5.453249e-06\n",
       "5     6.150096e-06\n",
       "6     1.081812e-05\n",
       "7     1.089544e-05\n",
       "8     6.732180e-06\n",
       "9     1.610354e-05\n",
       "10    4.388560e-06\n",
       "11    2.184563e-06\n",
       "dtype: float64"
      ]
     },
     "execution_count": 92,
     "metadata": {},
     "output_type": "execute_result"
    }
   ],
   "source": [
    "merged_list.accidents / merged_list.total_hours"
   ]
  },
  {
   "cell_type": "markdown",
   "id": "a0a3494e-9687-44cb-828c-6b35ac56b842",
   "metadata": {},
   "source": [
    "The resulting series can be added to your dataframe by assigning it to a new column."
   ]
  },
  {
   "cell_type": "code",
   "execution_count": 93,
   "id": "050dcaf0-4e17-4118-bea2-f294f2b83418",
   "metadata": {},
   "outputs": [],
   "source": [
    "merged_list['per_hour'] = merged_list.accidents / merged_list.total_hours"
   ]
  },
  {
   "cell_type": "code",
   "execution_count": 94,
   "id": "118c138f-4f2a-4b36-b9ad-1de2b1a2b0c8",
   "metadata": {},
   "outputs": [
    {
     "data": {
      "text/html": [
       "<div>\n",
       "<style scoped>\n",
       "    .dataframe tbody tr th:only-of-type {\n",
       "        vertical-align: middle;\n",
       "    }\n",
       "\n",
       "    .dataframe tbody tr th {\n",
       "        vertical-align: top;\n",
       "    }\n",
       "\n",
       "    .dataframe thead th {\n",
       "        text-align: right;\n",
       "    }\n",
       "</style>\n",
       "<table border=\"1\" class=\"dataframe\">\n",
       "  <thead>\n",
       "    <tr style=\"text-align: right;\">\n",
       "      <th></th>\n",
       "      <th>latimes_make_and_model</th>\n",
       "      <th>accidents</th>\n",
       "      <th>total_hours</th>\n",
       "      <th>per_hour</th>\n",
       "    </tr>\n",
       "  </thead>\n",
       "  <tbody>\n",
       "    <tr>\n",
       "      <th>0</th>\n",
       "      <td>AGUSTA 109</td>\n",
       "      <td>2</td>\n",
       "      <td>362172</td>\n",
       "      <td>5.522238e-06</td>\n",
       "    </tr>\n",
       "    <tr>\n",
       "      <th>1</th>\n",
       "      <td>AIRBUS 130</td>\n",
       "      <td>1</td>\n",
       "      <td>1053786</td>\n",
       "      <td>9.489593e-07</td>\n",
       "    </tr>\n",
       "    <tr>\n",
       "      <th>2</th>\n",
       "      <td>AIRBUS 135</td>\n",
       "      <td>4</td>\n",
       "      <td>884596</td>\n",
       "      <td>4.521838e-06</td>\n",
       "    </tr>\n",
       "    <tr>\n",
       "      <th>3</th>\n",
       "      <td>AIRBUS 350</td>\n",
       "      <td>29</td>\n",
       "      <td>3883490</td>\n",
       "      <td>7.467510e-06</td>\n",
       "    </tr>\n",
       "    <tr>\n",
       "      <th>4</th>\n",
       "      <td>BELL 206</td>\n",
       "      <td>30</td>\n",
       "      <td>5501308</td>\n",
       "      <td>5.453249e-06</td>\n",
       "    </tr>\n",
       "  </tbody>\n",
       "</table>\n",
       "</div>"
      ],
      "text/plain": [
       "  latimes_make_and_model  accidents  total_hours      per_hour\n",
       "0             AGUSTA 109          2       362172  5.522238e-06\n",
       "1             AIRBUS 130          1      1053786  9.489593e-07\n",
       "2             AIRBUS 135          4       884596  4.521838e-06\n",
       "3             AIRBUS 350         29      3883490  7.467510e-06\n",
       "4               BELL 206         30      5501308  5.453249e-06"
      ]
     },
     "execution_count": 94,
     "metadata": {},
     "output_type": "execute_result"
    }
   ],
   "source": [
    "merged_list.head()"
   ]
  },
  {
   "cell_type": "markdown",
   "id": "46d16e19-1e82-4d6c-92b5-9dabd63778ea",
   "metadata": {},
   "source": [
    "<div style=\"max-width:640px;\">\n",
    "\n",
    "In this case, the result is in scientific notation. As is common when calculating per capita statistics, you can multiple all results by a common number to make the numbers more legible.\n",
    "    \n",
    "That's as easy as tacking on the multiplication at the end of a computation.\n",
    "\n",
    "</div>"
   ]
  },
  {
   "cell_type": "code",
   "execution_count": 95,
   "id": "b8a1c29c-9bf3-4d8e-8421-fb887f5b59a6",
   "metadata": {},
   "outputs": [],
   "source": [
    "merged_list['per_100k_hours'] = (merged_list.accidents / merged_list.total_hours) * 100000"
   ]
  },
  {
   "cell_type": "markdown",
   "id": "1c1c4b7b-a821-480f-ac51-45653942e830",
   "metadata": {
    "tags": []
   },
   "source": [
    "## Sorting dataframes\n",
    "\n",
    "<div style=\"max-width:640px;\">\n",
    "\n",
    "Another simple but common technique for analyzing data is sorting. This can be useful for ranking the DataFrame to show the highest and lowest members of the group according to a particular column. The <a href=\"https://pandas.pydata.org/pandas-docs/stable/reference/api/pandas.DataFrame.sort_values.html\">`sort_values`</a> is how pandas does it.\n",
    "\n",
    "</div>"
   ]
  },
  {
   "cell_type": "code",
   "execution_count": 98,
   "id": "7e160012-886f-45a5-9225-f312b54ecdf0",
   "metadata": {},
   "outputs": [
    {
     "data": {
      "text/html": [
       "<div>\n",
       "<style scoped>\n",
       "    .dataframe tbody tr th:only-of-type {\n",
       "        vertical-align: middle;\n",
       "    }\n",
       "\n",
       "    .dataframe tbody tr th {\n",
       "        vertical-align: top;\n",
       "    }\n",
       "\n",
       "    .dataframe thead th {\n",
       "        text-align: right;\n",
       "    }\n",
       "</style>\n",
       "<table border=\"1\" class=\"dataframe\">\n",
       "  <thead>\n",
       "    <tr style=\"text-align: right;\">\n",
       "      <th></th>\n",
       "      <th>latimes_make_and_model</th>\n",
       "      <th>accidents</th>\n",
       "      <th>total_hours</th>\n",
       "      <th>per_hour</th>\n",
       "      <th>per_100k_hours</th>\n",
       "    </tr>\n",
       "  </thead>\n",
       "  <tbody>\n",
       "    <tr>\n",
       "      <th>1</th>\n",
       "      <td>AIRBUS 130</td>\n",
       "      <td>1</td>\n",
       "      <td>1053786</td>\n",
       "      <td>9.489593e-07</td>\n",
       "      <td>0.094896</td>\n",
       "    </tr>\n",
       "    <tr>\n",
       "      <th>11</th>\n",
       "      <td>SIKORSKY 76</td>\n",
       "      <td>2</td>\n",
       "      <td>915515</td>\n",
       "      <td>2.184563e-06</td>\n",
       "      <td>0.218456</td>\n",
       "    </tr>\n",
       "    <tr>\n",
       "      <th>10</th>\n",
       "      <td>SCHWEIZER 269</td>\n",
       "      <td>5</td>\n",
       "      <td>1139326</td>\n",
       "      <td>4.388560e-06</td>\n",
       "      <td>0.438856</td>\n",
       "    </tr>\n",
       "    <tr>\n",
       "      <th>2</th>\n",
       "      <td>AIRBUS 135</td>\n",
       "      <td>4</td>\n",
       "      <td>884596</td>\n",
       "      <td>4.521838e-06</td>\n",
       "      <td>0.452184</td>\n",
       "    </tr>\n",
       "    <tr>\n",
       "      <th>4</th>\n",
       "      <td>BELL 206</td>\n",
       "      <td>30</td>\n",
       "      <td>5501308</td>\n",
       "      <td>5.453249e-06</td>\n",
       "      <td>0.545325</td>\n",
       "    </tr>\n",
       "    <tr>\n",
       "      <th>0</th>\n",
       "      <td>AGUSTA 109</td>\n",
       "      <td>2</td>\n",
       "      <td>362172</td>\n",
       "      <td>5.522238e-06</td>\n",
       "      <td>0.552224</td>\n",
       "    </tr>\n",
       "    <tr>\n",
       "      <th>5</th>\n",
       "      <td>BELL 407</td>\n",
       "      <td>13</td>\n",
       "      <td>2113788</td>\n",
       "      <td>6.150096e-06</td>\n",
       "      <td>0.615010</td>\n",
       "    </tr>\n",
       "    <tr>\n",
       "      <th>8</th>\n",
       "      <td>ROBINSON R22</td>\n",
       "      <td>20</td>\n",
       "      <td>2970806</td>\n",
       "      <td>6.732180e-06</td>\n",
       "      <td>0.673218</td>\n",
       "    </tr>\n",
       "    <tr>\n",
       "      <th>3</th>\n",
       "      <td>AIRBUS 350</td>\n",
       "      <td>29</td>\n",
       "      <td>3883490</td>\n",
       "      <td>7.467510e-06</td>\n",
       "      <td>0.746751</td>\n",
       "    </tr>\n",
       "    <tr>\n",
       "      <th>6</th>\n",
       "      <td>HUGHES 369</td>\n",
       "      <td>13</td>\n",
       "      <td>1201688</td>\n",
       "      <td>1.081812e-05</td>\n",
       "      <td>1.081812</td>\n",
       "    </tr>\n",
       "    <tr>\n",
       "      <th>7</th>\n",
       "      <td>MCDONNELL DOUGLAS 369</td>\n",
       "      <td>6</td>\n",
       "      <td>550689</td>\n",
       "      <td>1.089544e-05</td>\n",
       "      <td>1.089544</td>\n",
       "    </tr>\n",
       "    <tr>\n",
       "      <th>9</th>\n",
       "      <td>ROBINSON R44</td>\n",
       "      <td>38</td>\n",
       "      <td>2359729</td>\n",
       "      <td>1.610354e-05</td>\n",
       "      <td>1.610354</td>\n",
       "    </tr>\n",
       "  </tbody>\n",
       "</table>\n",
       "</div>"
      ],
      "text/plain": [
       "   latimes_make_and_model  accidents  total_hours      per_hour  \\\n",
       "1              AIRBUS 130          1      1053786  9.489593e-07   \n",
       "11            SIKORSKY 76          2       915515  2.184563e-06   \n",
       "10          SCHWEIZER 269          5      1139326  4.388560e-06   \n",
       "2              AIRBUS 135          4       884596  4.521838e-06   \n",
       "4                BELL 206         30      5501308  5.453249e-06   \n",
       "0              AGUSTA 109          2       362172  5.522238e-06   \n",
       "5                BELL 407         13      2113788  6.150096e-06   \n",
       "8            ROBINSON R22         20      2970806  6.732180e-06   \n",
       "3              AIRBUS 350         29      3883490  7.467510e-06   \n",
       "6              HUGHES 369         13      1201688  1.081812e-05   \n",
       "7   MCDONNELL DOUGLAS 369          6       550689  1.089544e-05   \n",
       "9            ROBINSON R44         38      2359729  1.610354e-05   \n",
       "\n",
       "    per_100k_hours  \n",
       "1         0.094896  \n",
       "11        0.218456  \n",
       "10        0.438856  \n",
       "2         0.452184  \n",
       "4         0.545325  \n",
       "0         0.552224  \n",
       "5         0.615010  \n",
       "8         0.673218  \n",
       "3         0.746751  \n",
       "6         1.081812  \n",
       "7         1.089544  \n",
       "9         1.610354  "
      ]
     },
     "execution_count": 98,
     "metadata": {},
     "output_type": "execute_result"
    }
   ],
   "source": [
    "merged_list.sort_values(\"per_100k_hours\")"
   ]
  },
  {
   "cell_type": "markdown",
   "id": "a477fd22-aa08-4758-afa2-e36ff8d5df26",
   "metadata": {},
   "source": [
    "<div style=\"max-width:640px;\">\n",
    "\n",
    "Note that returns the DataFrame resorted in ascending order from lowest to highest. That is pandas default way of sorting. Here's how you reverse it to show the largest values first.\n",
    "\n",
    "</div>"
   ]
  },
  {
   "cell_type": "code",
   "execution_count": 99,
   "id": "08d5a720-0b17-4ff6-884d-a6c0995ca9f4",
   "metadata": {},
   "outputs": [
    {
     "data": {
      "text/html": [
       "<div>\n",
       "<style scoped>\n",
       "    .dataframe tbody tr th:only-of-type {\n",
       "        vertical-align: middle;\n",
       "    }\n",
       "\n",
       "    .dataframe tbody tr th {\n",
       "        vertical-align: top;\n",
       "    }\n",
       "\n",
       "    .dataframe thead th {\n",
       "        text-align: right;\n",
       "    }\n",
       "</style>\n",
       "<table border=\"1\" class=\"dataframe\">\n",
       "  <thead>\n",
       "    <tr style=\"text-align: right;\">\n",
       "      <th></th>\n",
       "      <th>latimes_make_and_model</th>\n",
       "      <th>accidents</th>\n",
       "      <th>total_hours</th>\n",
       "      <th>per_hour</th>\n",
       "      <th>per_100k_hours</th>\n",
       "    </tr>\n",
       "  </thead>\n",
       "  <tbody>\n",
       "    <tr>\n",
       "      <th>9</th>\n",
       "      <td>ROBINSON R44</td>\n",
       "      <td>38</td>\n",
       "      <td>2359729</td>\n",
       "      <td>1.610354e-05</td>\n",
       "      <td>1.610354</td>\n",
       "    </tr>\n",
       "    <tr>\n",
       "      <th>7</th>\n",
       "      <td>MCDONNELL DOUGLAS 369</td>\n",
       "      <td>6</td>\n",
       "      <td>550689</td>\n",
       "      <td>1.089544e-05</td>\n",
       "      <td>1.089544</td>\n",
       "    </tr>\n",
       "    <tr>\n",
       "      <th>6</th>\n",
       "      <td>HUGHES 369</td>\n",
       "      <td>13</td>\n",
       "      <td>1201688</td>\n",
       "      <td>1.081812e-05</td>\n",
       "      <td>1.081812</td>\n",
       "    </tr>\n",
       "    <tr>\n",
       "      <th>3</th>\n",
       "      <td>AIRBUS 350</td>\n",
       "      <td>29</td>\n",
       "      <td>3883490</td>\n",
       "      <td>7.467510e-06</td>\n",
       "      <td>0.746751</td>\n",
       "    </tr>\n",
       "    <tr>\n",
       "      <th>8</th>\n",
       "      <td>ROBINSON R22</td>\n",
       "      <td>20</td>\n",
       "      <td>2970806</td>\n",
       "      <td>6.732180e-06</td>\n",
       "      <td>0.673218</td>\n",
       "    </tr>\n",
       "    <tr>\n",
       "      <th>5</th>\n",
       "      <td>BELL 407</td>\n",
       "      <td>13</td>\n",
       "      <td>2113788</td>\n",
       "      <td>6.150096e-06</td>\n",
       "      <td>0.615010</td>\n",
       "    </tr>\n",
       "    <tr>\n",
       "      <th>0</th>\n",
       "      <td>AGUSTA 109</td>\n",
       "      <td>2</td>\n",
       "      <td>362172</td>\n",
       "      <td>5.522238e-06</td>\n",
       "      <td>0.552224</td>\n",
       "    </tr>\n",
       "    <tr>\n",
       "      <th>4</th>\n",
       "      <td>BELL 206</td>\n",
       "      <td>30</td>\n",
       "      <td>5501308</td>\n",
       "      <td>5.453249e-06</td>\n",
       "      <td>0.545325</td>\n",
       "    </tr>\n",
       "    <tr>\n",
       "      <th>2</th>\n",
       "      <td>AIRBUS 135</td>\n",
       "      <td>4</td>\n",
       "      <td>884596</td>\n",
       "      <td>4.521838e-06</td>\n",
       "      <td>0.452184</td>\n",
       "    </tr>\n",
       "    <tr>\n",
       "      <th>10</th>\n",
       "      <td>SCHWEIZER 269</td>\n",
       "      <td>5</td>\n",
       "      <td>1139326</td>\n",
       "      <td>4.388560e-06</td>\n",
       "      <td>0.438856</td>\n",
       "    </tr>\n",
       "    <tr>\n",
       "      <th>11</th>\n",
       "      <td>SIKORSKY 76</td>\n",
       "      <td>2</td>\n",
       "      <td>915515</td>\n",
       "      <td>2.184563e-06</td>\n",
       "      <td>0.218456</td>\n",
       "    </tr>\n",
       "    <tr>\n",
       "      <th>1</th>\n",
       "      <td>AIRBUS 130</td>\n",
       "      <td>1</td>\n",
       "      <td>1053786</td>\n",
       "      <td>9.489593e-07</td>\n",
       "      <td>0.094896</td>\n",
       "    </tr>\n",
       "  </tbody>\n",
       "</table>\n",
       "</div>"
      ],
      "text/plain": [
       "   latimes_make_and_model  accidents  total_hours      per_hour  \\\n",
       "9            ROBINSON R44         38      2359729  1.610354e-05   \n",
       "7   MCDONNELL DOUGLAS 369          6       550689  1.089544e-05   \n",
       "6              HUGHES 369         13      1201688  1.081812e-05   \n",
       "3              AIRBUS 350         29      3883490  7.467510e-06   \n",
       "8            ROBINSON R22         20      2970806  6.732180e-06   \n",
       "5                BELL 407         13      2113788  6.150096e-06   \n",
       "0              AGUSTA 109          2       362172  5.522238e-06   \n",
       "4                BELL 206         30      5501308  5.453249e-06   \n",
       "2              AIRBUS 135          4       884596  4.521838e-06   \n",
       "10          SCHWEIZER 269          5      1139326  4.388560e-06   \n",
       "11            SIKORSKY 76          2       915515  2.184563e-06   \n",
       "1              AIRBUS 130          1      1053786  9.489593e-07   \n",
       "\n",
       "    per_100k_hours  \n",
       "9         1.610354  \n",
       "7         1.089544  \n",
       "6         1.081812  \n",
       "3         0.746751  \n",
       "8         0.673218  \n",
       "5         0.615010  \n",
       "0         0.552224  \n",
       "4         0.545325  \n",
       "2         0.452184  \n",
       "10        0.438856  \n",
       "11        0.218456  \n",
       "1         0.094896  "
      ]
     },
     "execution_count": 99,
     "metadata": {},
     "output_type": "execute_result"
    }
   ],
   "source": [
    "merged_list.sort_values(\"per_100k_hours\", ascending=False)"
   ]
  },
  {
   "cell_type": "markdown",
   "id": "c8d1236d-525a-4f52-a76f-1997246fc458",
   "metadata": {
    "tags": []
   },
   "source": [
    "## Further reading\n",
    "\n",
    "<div style=\"max-width:640px;\">\n",
    "\n",
    "Congratulations. With that, we've recreated the analysis published in the Los Angeles Times and covered most of the basic skills necessary to access and analyze data with pandas. If you'd like to learn more, consult <a href=\"https://palewi.re/docs/first-python-notebook/\">the full edition of \"First Python Notebook\"</a>.\n",
    "\n",
    "</div>"
   ]
  }
 ],
 "metadata": {
  "kernelspec": {
   "display_name": "Python 3 (ipykernel)",
   "language": "python",
   "name": "python3"
  },
  "language_info": {
   "codemirror_mode": {
    "name": "ipython",
    "version": 3
   },
   "file_extension": ".py",
   "mimetype": "text/x-python",
   "name": "python",
   "nbconvert_exporter": "python",
   "pygments_lexer": "ipython3",
   "version": "3.9.9"
  }
 },
 "nbformat": 4,
 "nbformat_minor": 5
}
